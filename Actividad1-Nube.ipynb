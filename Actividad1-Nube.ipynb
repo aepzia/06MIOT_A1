{
 "cells": [
  {
   "cell_type": "code",
   "execution_count": 185,
   "id": "f8a9144e-4cc7-4f2e-8570-5aaaa03051f3",
   "metadata": {},
   "outputs": [],
   "source": [
    "import psycopg2"
   ]
  },
  {
   "cell_type": "code",
   "execution_count": 186,
   "id": "8bde0d9b-b233-418f-a7f6-a346e2442340",
   "metadata": {},
   "outputs": [],
   "source": [
    "bbdd = 'uigcuqkx';\n",
    "usuario = 'uigcuqkx';\n",
    "password = '***********';\n",
    "maquina = 'abul.db.elephantsql.com';\n",
    "puerto = '5432';"
   ]
  },
  {
   "cell_type": "code",
   "execution_count": 187,
   "id": "bf212e0e-7fdc-4ee6-8752-f26409f3da9a",
   "metadata": {},
   "outputs": [],
   "source": [
    "conexion2 = psycopg2.connect(dbname=bbdd,\n",
    "                            user=usuario,\n",
    "                            password=password,\n",
    "                            host=maquina,\n",
    "                            port=puerto\n",
    "                            )"
   ]
  },
  {
   "cell_type": "code",
   "execution_count": 188,
   "id": "d48b62ff-c140-4215-b992-c6708baf0dfd",
   "metadata": {},
   "outputs": [],
   "source": [
    "cursor2 = conexion2.cursor()"
   ]
  },
  {
   "cell_type": "code",
   "execution_count": 189,
   "id": "2cf92df7-650c-4d2e-9f7b-930f025b5df4",
   "metadata": {},
   "outputs": [],
   "source": [
    "# Query 1: Mostrar nombre y apellido de todos los Terapeutas\n",
    "# SELECT nombre, apellido FROM suptech.terapeuta;\n",
    "cursor2.execute(\"SELECT nombre, apellido FROM suptech.terapeuta;\")"
   ]
  },
  {
   "cell_type": "code",
   "execution_count": 190,
   "id": "399d737a-3d62-469a-a8f6-b6a122c3e259",
   "metadata": {},
   "outputs": [
    {
     "data": {
      "text/plain": [
       "[('Jorse', 'Luis'),\n",
       " ('Juan', 'Nito'),\n",
       " ('Ana', 'Torroja'),\n",
       " ('Bartolo', 'Meolitros'),\n",
       " ('Julio', 'Sandini'),\n",
       " ('Maria', 'Prieto'),\n",
       " ('Wilber', 'Anton')]"
      ]
     },
     "execution_count": 190,
     "metadata": {},
     "output_type": "execute_result"
    }
   ],
   "source": [
    "cursor2.fetchall()"
   ]
  },
  {
   "cell_type": "code",
   "execution_count": 191,
   "id": "150dc8c1-87ee-40d6-b415-0b952a0d82ae",
   "metadata": {},
   "outputs": [],
   "source": [
    "# Query 2: Mostrar nombre y apellido del Terapeuta con dni=99999999A\n",
    "# SELECT nombre, apellido FROM suptech.terapeuta WHERE dni=\"99999999A\";\n",
    "cursor2.execute(\"SELECT nombre, apellido FROM suptech.terapeuta WHERE dni='99999999A';\")"
   ]
  },
  {
   "cell_type": "code",
   "execution_count": 192,
   "id": "fb28a423-3b5c-4e61-8172-92cb64f35256",
   "metadata": {},
   "outputs": [
    {
     "data": {
      "text/plain": [
       "[('Jorse', 'Luis')]"
      ]
     },
     "execution_count": 192,
     "metadata": {},
     "output_type": "execute_result"
    }
   ],
   "source": [
    "cursor2.fetchall()"
   ]
  },
  {
   "cell_type": "code",
   "execution_count": 193,
   "id": "1ae1f23e-77b4-48fe-8aeb-12dbf539c337",
   "metadata": {},
   "outputs": [],
   "source": [
    "# Query 3: Mostrar nombre y apellido del Terapeuta en la cuenta A99999999\n",
    "# SELECT nombre, apellido FROM suptech.terapeuta WHERE cuenta_id=\"A99999999\";\n",
    "cursor2.execute(\"SELECT nombre, apellido FROM suptech.terapeuta WHERE cuenta_id='A99999999';\")"
   ]
  },
  {
   "cell_type": "code",
   "execution_count": 194,
   "id": "b5b828f7-4ea0-4855-9b0e-5f3f7b43dc44",
   "metadata": {},
   "outputs": [
    {
     "data": {
      "text/plain": [
       "[('Jorse', 'Luis')]"
      ]
     },
     "execution_count": 194,
     "metadata": {},
     "output_type": "execute_result"
    }
   ],
   "source": [
    "cursor2.fetchall()"
   ]
  },
  {
   "cell_type": "code",
   "execution_count": 195,
   "id": "0a247a2b-bda7-40f5-a040-5224b3d359d7",
   "metadata": {},
   "outputs": [],
   "source": [
    "# Query 4: Mostrar nombre y apellido de todos los Usuarios\n",
    "# SELECT nombre, apellido FROM suptech.usuario;\n",
    "cursor2.execute(\"SELECT nombre, apellido FROM suptech.usuario;\")"
   ]
  },
  {
   "cell_type": "code",
   "execution_count": 196,
   "id": "0323b025-5a2e-4e5d-8571-a0eff4d574b5",
   "metadata": {},
   "outputs": [
    {
     "data": {
      "text/plain": [
       "[('Luis', 'Piedrahita'),\n",
       " ('Antonio', 'Ramirez'),\n",
       " ('Juana', 'Laluca'),\n",
       " ('Angel', 'Martin'),\n",
       " ('Patricia', 'Lutricia'),\n",
       " ('Cahlos', 'Perez'),\n",
       " ('Toro', 'Meo')]"
      ]
     },
     "execution_count": 196,
     "metadata": {},
     "output_type": "execute_result"
    }
   ],
   "source": [
    "cursor2.fetchall()"
   ]
  },
  {
   "cell_type": "code",
   "execution_count": 197,
   "id": "3e58147e-074a-4869-a063-4b02f12cf24a",
   "metadata": {},
   "outputs": [],
   "source": [
    "# Query 5: Mostrar nombre y apellido del usuario con DNI 87276482V\n",
    "# SELECT nombre, apellido FROM suptech.usuario WHERE dni=\"87276482V\";\n",
    "cursor2.execute(\"SELECT nombre, apellido FROM suptech.usuario WHERE dni='87276482V';\")"
   ]
  },
  {
   "cell_type": "code",
   "execution_count": 198,
   "id": "3f76f023-0c92-4c26-b220-c424ac09e344",
   "metadata": {},
   "outputs": [
    {
     "data": {
      "text/plain": [
       "[('Luis', 'Piedrahita')]"
      ]
     },
     "execution_count": 198,
     "metadata": {},
     "output_type": "execute_result"
    }
   ],
   "source": [
    "cursor2.fetchall()"
   ]
  },
  {
   "cell_type": "code",
   "execution_count": 199,
   "id": "1f98ec5e-a307-45b8-8f8c-64227794aed3",
   "metadata": {},
   "outputs": [],
   "source": [
    "# Query 6: Mostrar informacion de los usuarios del Colegio Ninos Malos\n",
    "# SELECT u.nombre, u.apellido FROM suptech.usuario AS u INNER JOIN suptech.cuenta AS c \n",
    "# ON c.cif=u.cuenta_id WHERE c.nombre=\"Colegio Ninos Malos\";\n",
    "cursor2.execute(\"SELECT u.nombre, u.apellido FROM suptech.usuario AS u \\\n",
    "INNER JOIN suptech.cuenta AS c ON c.cif=u.cuenta_id WHERE c.nombre='Colegio Ninos Malos';\")"
   ]
  },
  {
   "cell_type": "code",
   "execution_count": 200,
   "id": "bbbfcc44-757a-4425-be6d-58c9eabf85b7",
   "metadata": {},
   "outputs": [
    {
     "data": {
      "text/plain": [
       "[('Luis', 'Piedrahita')]"
      ]
     },
     "execution_count": 200,
     "metadata": {},
     "output_type": "execute_result"
    }
   ],
   "source": [
    "cursor2.fetchall()"
   ]
  },
  {
   "cell_type": "code",
   "execution_count": 201,
   "id": "00538d56-a50e-42c1-966d-c7a55413423f",
   "metadata": {},
   "outputs": [],
   "source": [
    "# Query 7: Mostrar informacion de los usuarios accesibles para el terapeuta con DNI 999999999A\n",
    "# SELECT u.nombre, u.apellido FROM suptech.usuario AS u INNER JOIN suptech.tiene_asignado AS t \\\n",
    "# ON t.usuario_id=u.dni WHERE t.terapeuta_id=\"99999999A\";\n",
    "cursor2.execute(\"SELECT u.nombre, u.apellido FROM suptech.usuario AS u INNER JOIN suptech.tiene_asignado AS t \\\n",
    "ON t.usuario_id=u.dni WHERE t.terapeuta_id='99999999A';\")"
   ]
  },
  {
   "cell_type": "code",
   "execution_count": 202,
   "id": "8b7416a1-c3f5-44fa-89f4-3c8c1a94b4e3",
   "metadata": {},
   "outputs": [
    {
     "data": {
      "text/plain": [
       "[('Luis', 'Piedrahita')]"
      ]
     },
     "execution_count": 202,
     "metadata": {},
     "output_type": "execute_result"
    }
   ],
   "source": [
    "cursor2.fetchall()"
   ]
  },
  {
   "cell_type": "code",
   "execution_count": 203,
   "id": "cc0fda7a-d6f5-4ff3-80cb-895123314574",
   "metadata": {},
   "outputs": [],
   "source": [
    "# Query 8: Numero de usuarios que tiene el terapeuta Julio Sandini\n",
    "# SELECT COUNT(*) FROM suptech.tiene_asignado AS u INNER JOIN suptech.terapeuta AS t \\\n",
    "# ON u.terapeuta_id=t.dni WHERE t.nombre=\"Julio\" AND t.apellido=\"Sandini\";\n",
    "cursor2.execute(\"SELECT COUNT(*) FROM suptech.tiene_asignado AS u INNER JOIN suptech.terapeuta AS t \\\n",
    "ON u.terapeuta_id=t.dni WHERE t.nombre='Julio' AND t.apellido='Sandini';\")"
   ]
  },
  {
   "cell_type": "code",
   "execution_count": 204,
   "id": "54b0eef8-8270-4cd6-9056-7aa07312a711",
   "metadata": {},
   "outputs": [
    {
     "name": "stdout",
     "output_type": "stream",
     "text": [
      "Numero de usuario de Julio Sandini:  1\n"
     ]
    }
   ],
   "source": [
    "x = cursor2.fetchone()\n",
    "print(\"Numero de usuario de Julio Sandini: \",x[0])"
   ]
  },
  {
   "cell_type": "code",
   "execution_count": 205,
   "id": "27a6e051-c66d-4e2f-9142-ce76b8e5a0ff",
   "metadata": {},
   "outputs": [],
   "source": [
    "# Query 9: Numero de usuarios que un terapeuta tiene y nombre y apellido del terapeuta\n",
    "# SELECT nombre, apellido, COUNT(*) FROM suptech.tiene_asignado AS u \\\n",
    "# INNER JOIN suptech.terapeuta AS t ON u.terapeuta_id=t.dni GROUP BY u.terapeuta_id;\n",
    "cursor2.execute(\"SELECT t.nombre, t.apellido, COUNT(*) FROM suptech.tiene_asignado AS u \\\n",
    "INNER JOIN suptech.terapeuta AS t ON u.terapeuta_id=t.dni GROUP BY t.dni;\")"
   ]
  },
  {
   "cell_type": "code",
   "execution_count": 206,
   "id": "589cd0da-1410-4afb-b1b5-47016ff59252",
   "metadata": {},
   "outputs": [
    {
     "name": "stdout",
     "output_type": "stream",
     "text": [
      "Numero de usuarios de Jorse Luis : 1\n",
      "Numero de usuarios de Julio Sandini : 1\n"
     ]
    }
   ],
   "source": [
    "for terapeuta in cursor2.fetchall():\n",
    "    print(\"Numero de usuarios de\", terapeuta[0],terapeuta[1], \":\", terapeuta[2])"
   ]
  },
  {
   "cell_type": "code",
   "execution_count": 207,
   "id": "ba786b2e-e233-44b2-bab0-ebd04a3099f6",
   "metadata": {},
   "outputs": [],
   "source": [
    "cursor2.close()"
   ]
  },
  {
   "cell_type": "code",
   "execution_count": 208,
   "id": "9f24e8a2-ac32-476e-921a-dd7d6d3e09e4",
   "metadata": {},
   "outputs": [],
   "source": [
    "conexion2.close()"
   ]
  }
 ],
 "metadata": {
  "kernelspec": {
   "display_name": "Python 3 (ipykernel)",
   "language": "python",
   "name": "python3"
  },
  "language_info": {
   "codemirror_mode": {
    "name": "ipython",
    "version": 3
   },
   "file_extension": ".py",
   "mimetype": "text/x-python",
   "name": "python",
   "nbconvert_exporter": "python",
   "pygments_lexer": "ipython3",
   "version": "3.9.0"
  }
 },
 "nbformat": 4,
 "nbformat_minor": 5
}
