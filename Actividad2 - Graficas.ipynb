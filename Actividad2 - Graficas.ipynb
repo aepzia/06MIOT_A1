{
 "cells": [
  {
   "cell_type": "code",
   "execution_count": 90,
   "id": "578ffd64",
   "metadata": {},
   "outputs": [
    {
     "name": "stdout",
     "output_type": "stream",
     "text": [
      "Requirement already satisfied: seaborn in c:\\users\\jaime\\appdata\\local\\programs\\python\\python310\\lib\\site-packages (0.11.2)\n",
      "Requirement already satisfied: scipy>=1.0 in c:\\users\\jaime\\appdata\\local\\programs\\python\\python310\\lib\\site-packages (from seaborn) (1.8.0)\n",
      "Requirement already satisfied: pandas>=0.23 in c:\\users\\jaime\\appdata\\local\\programs\\python\\python310\\lib\\site-packages (from seaborn) (1.4.1)\n",
      "Requirement already satisfied: numpy>=1.15 in c:\\users\\jaime\\appdata\\local\\programs\\python\\python310\\lib\\site-packages (from seaborn) (1.22.2)\n",
      "Requirement already satisfied: matplotlib>=2.2 in c:\\users\\jaime\\appdata\\local\\programs\\python\\python310\\lib\\site-packages (from seaborn) (3.5.1)\n",
      "Requirement already satisfied: packaging>=20.0 in c:\\users\\jaime\\appdata\\local\\programs\\python\\python310\\lib\\site-packages (from matplotlib>=2.2->seaborn) (21.3)\n",
      "Requirement already satisfied: pillow>=6.2.0 in c:\\users\\jaime\\appdata\\local\\programs\\python\\python310\\lib\\site-packages (from matplotlib>=2.2->seaborn) (9.0.1)\n",
      "Requirement already satisfied: python-dateutil>=2.7 in c:\\users\\jaime\\appdata\\local\\programs\\python\\python310\\lib\\site-packages (from matplotlib>=2.2->seaborn) (2.8.2)\n",
      "Requirement already satisfied: kiwisolver>=1.0.1 in c:\\users\\jaime\\appdata\\local\\programs\\python\\python310\\lib\\site-packages (from matplotlib>=2.2->seaborn) (1.3.2)\n",
      "Requirement already satisfied: pyparsing>=2.2.1 in c:\\users\\jaime\\appdata\\local\\programs\\python\\python310\\lib\\site-packages (from matplotlib>=2.2->seaborn) (3.0.7)\n",
      "Requirement already satisfied: cycler>=0.10 in c:\\users\\jaime\\appdata\\local\\programs\\python\\python310\\lib\\site-packages (from matplotlib>=2.2->seaborn) (0.11.0)\n",
      "Requirement already satisfied: fonttools>=4.22.0 in c:\\users\\jaime\\appdata\\local\\programs\\python\\python310\\lib\\site-packages (from matplotlib>=2.2->seaborn) (4.29.1)\n",
      "Requirement already satisfied: pytz>=2020.1 in c:\\users\\jaime\\appdata\\local\\programs\\python\\python310\\lib\\site-packages (from pandas>=0.23->seaborn) (2021.3)\n",
      "Requirement already satisfied: six>=1.5 in c:\\users\\jaime\\appdata\\local\\programs\\python\\python310\\lib\\site-packages (from python-dateutil>=2.7->matplotlib>=2.2->seaborn) (1.16.0)\n"
     ]
    },
    {
     "name": "stderr",
     "output_type": "stream",
     "text": [
      "WARNING: You are using pip version 21.3.1; however, version 22.0.3 is available.\n",
      "You should consider upgrading via the 'C:\\Users\\jaime\\AppData\\Local\\Programs\\Python\\Python310\\python.exe -m pip install --upgrade pip' command.\n"
     ]
    },
    {
     "name": "stdout",
     "output_type": "stream",
     "text": [
      "Collecting bokeh\n",
      "  Downloading bokeh-2.4.2-py3-none-any.whl (18.5 MB)\n",
      "Requirement already satisfied: Jinja2>=2.9 in c:\\users\\jaime\\appdata\\local\\programs\\python\\python310\\lib\\site-packages (from bokeh) (3.0.3)\n",
      "Requirement already satisfied: pillow>=7.1.0 in c:\\users\\jaime\\appdata\\local\\programs\\python\\python310\\lib\\site-packages (from bokeh) (9.0.1)\n",
      "Requirement already satisfied: tornado>=5.1 in c:\\users\\jaime\\appdata\\local\\programs\\python\\python310\\lib\\site-packages (from bokeh) (6.1)\n",
      "Collecting PyYAML>=3.10\n",
      "  Downloading PyYAML-6.0-cp310-cp310-win_amd64.whl (151 kB)\n",
      "Requirement already satisfied: packaging>=16.8 in c:\\users\\jaime\\appdata\\local\\programs\\python\\python310\\lib\\site-packages (from bokeh) (21.3)\n",
      "Requirement already satisfied: typing-extensions>=3.10.0 in c:\\users\\jaime\\appdata\\local\\programs\\python\\python310\\lib\\site-packages (from bokeh) (4.0.1)\n",
      "Requirement already satisfied: numpy>=1.11.3 in c:\\users\\jaime\\appdata\\local\\programs\\python\\python310\\lib\\site-packages (from bokeh) (1.22.2)\n",
      "Requirement already satisfied: MarkupSafe>=2.0 in c:\\users\\jaime\\appdata\\local\\programs\\python\\python310\\lib\\site-packages (from Jinja2>=2.9->bokeh) (2.0.1)\n",
      "Requirement already satisfied: pyparsing!=3.0.5,>=2.0.2 in c:\\users\\jaime\\appdata\\local\\programs\\python\\python310\\lib\\site-packages (from packaging>=16.8->bokeh) (3.0.7)\n",
      "Installing collected packages: PyYAML, bokeh\n",
      "Successfully installed PyYAML-6.0 bokeh-2.4.2\n"
     ]
    },
    {
     "name": "stderr",
     "output_type": "stream",
     "text": [
      "WARNING: You are using pip version 21.3.1; however, version 22.0.3 is available.\n",
      "You should consider upgrading via the 'C:\\Users\\jaime\\AppData\\Local\\Programs\\Python\\Python310\\python.exe -m pip install --upgrade pip' command.\n"
     ]
    },
    {
     "name": "stdout",
     "output_type": "stream",
     "text": [
      "Requirement already satisfied: pandas in c:\\users\\jaime\\appdata\\local\\programs\\python\\python310\\lib\\site-packages (1.4.1)\n",
      "Requirement already satisfied: python-dateutil>=2.8.1 in c:\\users\\jaime\\appdata\\local\\programs\\python\\python310\\lib\\site-packages (from pandas) (2.8.2)\n",
      "Requirement already satisfied: pytz>=2020.1 in c:\\users\\jaime\\appdata\\local\\programs\\python\\python310\\lib\\site-packages (from pandas) (2021.3)\n"
     ]
    },
    {
     "name": "stderr",
     "output_type": "stream",
     "text": [
      "WARNING: You are using pip version 21.3.1; however, version 22.0.3 is available.\n",
      "You should consider upgrading via the 'C:\\Users\\jaime\\AppData\\Local\\Programs\\Python\\Python310\\python.exe -m pip install --upgrade pip' command.\n"
     ]
    },
    {
     "name": "stdout",
     "output_type": "stream",
     "text": [
      "Requirement already satisfied: numpy>=1.21.0 in c:\\users\\jaime\\appdata\\local\\programs\\python\\python310\\lib\\site-packages (from pandas) (1.22.2)\n",
      "Requirement already satisfied: six>=1.5 in c:\\users\\jaime\\appdata\\local\\programs\\python\\python310\\lib\\site-packages (from python-dateutil>=2.8.1->pandas) (1.16.0)\n",
      "Requirement already satisfied: numpy in c:\\users\\jaime\\appdata\\local\\programs\\python\\python310\\lib\\site-packages (1.22.2)\n"
     ]
    },
    {
     "name": "stderr",
     "output_type": "stream",
     "text": [
      "WARNING: You are using pip version 21.3.1; however, version 22.0.3 is available.\n",
      "You should consider upgrading via the 'C:\\Users\\jaime\\AppData\\Local\\Programs\\Python\\Python310\\python.exe -m pip install --upgrade pip' command.\n"
     ]
    }
   ],
   "source": [
    "#Instala las librerias graficas que necesitamos\n",
    "!pip install seaborn\n",
    "!pip install bokeh\n",
    "!pip install pandas\n",
    "!pip install numpy"
   ]
  },
  {
   "cell_type": "code",
   "execution_count": 95,
   "id": "eb6c9448",
   "metadata": {},
   "outputs": [],
   "source": [
    "import numpy as np\n",
    "import pandas as pd\n",
    "import seaborn as sns\n",
    "import matplotlib.pyplot as plt\n",
    "from bokeh.plotting import figure, show"
   ]
  },
  {
   "cell_type": "code",
   "execution_count": 62,
   "id": "5250afba",
   "metadata": {},
   "outputs": [
    {
     "name": "stdout",
     "output_type": "stream",
     "text": [
      "distrito\n",
      "ARGANZUELA              59\n",
      "BARAJAS                 21\n",
      "CARABANCHEL             30\n",
      "CENTRO                 102\n",
      "CHAMARTÍN               35\n",
      "CHAMBERÍ                48\n",
      "CIUDAD LINEAL           24\n",
      "FUENCARRAL-EL PARDO     54\n",
      "HORTALEZA               29\n",
      "LATINA                  39\n",
      "MONCLOA-ARAVACA         77\n",
      "MORATALAZ               19\n",
      "PUENTE DE VALLECAS      41\n",
      "RETIRO                  59\n",
      "SALAMANCA               66\n",
      "SAN BLAS-CANILLEJAS     29\n",
      "TETUÁN                  39\n",
      "USERA                   26\n",
      "VICÁLVARO               18\n",
      "VILLA DE VALLECAS       14\n",
      "VILLAVERDE              16\n",
      "dtype: int64\n"
     ]
    }
   ],
   "source": [
    "# Número de accidentes por distrito\n",
    "accidentes_bicicletas=pd.read_csv(\"./AccidentesBicicletas_2021.csv\", sep=\";\")\n",
    "accidentes_por_distrito = accidentes_bicicletas.groupby(by=\"distrito\").size()\n",
    "accidentes_por_distrito\n",
    "print(accidentes_por_distrito)\n"
   ]
  },
  {
   "cell_type": "code",
   "execution_count": 81,
   "id": "ac26f9ad",
   "metadata": {},
   "outputs": [
    {
     "data": {
      "text/plain": [
       "[Text(0, 0, 'ARGANZUELA'),\n",
       " Text(1, 0, 'BARAJAS'),\n",
       " Text(2, 0, 'CARABANCHEL'),\n",
       " Text(3, 0, 'CENTRO'),\n",
       " Text(4, 0, 'CHAMARTÍN'),\n",
       " Text(5, 0, 'CHAMBERÍ'),\n",
       " Text(6, 0, 'CIUDAD LINEAL'),\n",
       " Text(7, 0, 'FUENCARRAL-EL PARDO'),\n",
       " Text(8, 0, 'HORTALEZA'),\n",
       " Text(9, 0, 'LATINA'),\n",
       " Text(10, 0, 'MONCLOA-ARAVACA'),\n",
       " Text(11, 0, 'MORATALAZ'),\n",
       " Text(12, 0, 'PUENTE DE VALLECAS'),\n",
       " Text(13, 0, 'RETIRO'),\n",
       " Text(14, 0, 'SALAMANCA'),\n",
       " Text(15, 0, 'SAN BLAS-CANILLEJAS'),\n",
       " Text(16, 0, 'TETUÁN'),\n",
       " Text(17, 0, 'USERA'),\n",
       " Text(18, 0, 'VICÁLVARO'),\n",
       " Text(19, 0, 'VILLA DE VALLECAS'),\n",
       " Text(20, 0, 'VILLAVERDE')]"
      ]
     },
     "execution_count": 81,
     "metadata": {},
     "output_type": "execute_result"
    },
    {
     "data": {
      "image/png": "[encoded data removed]",
      "text/plain": [
       "<Figure size 432x288 with 1 Axes>"
      ]
     },
     "metadata": {
      "needs_background": "light"
     },
     "output_type": "display_data"
    }
   ],
   "source": [
    "histograma = sns.barplot(x=accidentes_por_distrito.index, y=accidentes_por_distrito.values)\n",
    "histograma.set_xticklabels(histograma.get_xticklabels(),rotation = 90)\n"
   ]
  },
  {
   "cell_type": "code",
   "execution_count": 83,
   "id": "d7166d56",
   "metadata": {},
   "outputs": [
    {
     "data": {
      "text/html": [
       "<div>\n",
       "<style scoped>\n",
       "    .dataframe tbody tr th:only-of-type {\n",
       "        vertical-align: middle;\n",
       "    }\n",
       "\n",
       "    .dataframe tbody tr th {\n",
       "        vertical-align: top;\n",
       "    }\n",
       "\n",
       "    .dataframe thead th {\n",
       "        text-align: right;\n",
       "    }\n",
       "</style>\n",
       "<table border=\"1\" class=\"dataframe\">\n",
       "  <thead>\n",
       "    <tr style=\"text-align: right;\">\n",
       "      <th></th>\n",
       "      <th>num_expediente</th>\n",
       "      <th>fecha</th>\n",
       "      <th>hora</th>\n",
       "      <th>localizacion</th>\n",
       "      <th>numero</th>\n",
       "      <th>cod_distrito</th>\n",
       "      <th>distrito</th>\n",
       "      <th>tipo_accidente</th>\n",
       "      <th>estado_meteorológico</th>\n",
       "      <th>tipo_vehículo</th>\n",
       "      <th>tipo_persona</th>\n",
       "      <th>rango_edad</th>\n",
       "      <th>sexo</th>\n",
       "      <th>cod_lesividad</th>\n",
       "      <th>tipo_lesividad</th>\n",
       "      <th>coordenada_x_utm</th>\n",
       "      <th>coordenada_y_utm</th>\n",
       "      <th>positiva_alcohol</th>\n",
       "      <th>positiva_droga</th>\n",
       "    </tr>\n",
       "  </thead>\n",
       "  <tbody>\n",
       "    <tr>\n",
       "      <th>0</th>\n",
       "      <td>2021S000047</td>\n",
       "      <td>01/01/2021</td>\n",
       "      <td>11:38:00</td>\n",
       "      <td>CALL. JOSE BERGAMIN / CALL. FLORENCIO CANO CRI...</td>\n",
       "      <td>62</td>\n",
       "      <td>14</td>\n",
       "      <td>MORATALAZ</td>\n",
       "      <td>Caída</td>\n",
       "      <td>Despejado</td>\n",
       "      <td>Bicicleta</td>\n",
       "      <td>Conductor</td>\n",
       "      <td>De 45 a 49 años</td>\n",
       "      <td>Hombre</td>\n",
       "      <td>2.0</td>\n",
       "      <td>Ingreso inferior o igual a 24 horas</td>\n",
       "      <td>446.426.917</td>\n",
       "      <td>4.473.586.644</td>\n",
       "      <td>N</td>\n",
       "      <td>NaN</td>\n",
       "    </tr>\n",
       "    <tr>\n",
       "      <th>1</th>\n",
       "      <td>2021S000142</td>\n",
       "      <td>04/01/2021</td>\n",
       "      <td>11:30:00</td>\n",
       "      <td>PLAZA. GRECIA / AVDA. ARCENTALES wanda farola 20</td>\n",
       "      <td>1</td>\n",
       "      <td>20</td>\n",
       "      <td>SAN BLAS-CANILLEJAS</td>\n",
       "      <td>Caída</td>\n",
       "      <td>Despejado</td>\n",
       "      <td>Bicicleta</td>\n",
       "      <td>Conductor</td>\n",
       "      <td>De 15 a 17 años</td>\n",
       "      <td>Hombre</td>\n",
       "      <td>14.0</td>\n",
       "      <td>Sin asistencia sanitaria</td>\n",
       "      <td>448.606.811</td>\n",
       "      <td>4.476.216.426</td>\n",
       "      <td>N</td>\n",
       "      <td>NaN</td>\n",
       "    </tr>\n",
       "    <tr>\n",
       "      <th>2</th>\n",
       "      <td>2021S000142</td>\n",
       "      <td>04/01/2021</td>\n",
       "      <td>11:30:00</td>\n",
       "      <td>PLAZA. GRECIA / AVDA. ARCENTALES wanda farola 20</td>\n",
       "      <td>1</td>\n",
       "      <td>20</td>\n",
       "      <td>SAN BLAS-CANILLEJAS</td>\n",
       "      <td>Caída</td>\n",
       "      <td>Despejado</td>\n",
       "      <td>Bicicleta</td>\n",
       "      <td>Conductor</td>\n",
       "      <td>De 18 a 20 años</td>\n",
       "      <td>Hombre</td>\n",
       "      <td>14.0</td>\n",
       "      <td>Sin asistencia sanitaria</td>\n",
       "      <td>448.606.811</td>\n",
       "      <td>4.476.216.426</td>\n",
       "      <td>N</td>\n",
       "      <td>NaN</td>\n",
       "    </tr>\n",
       "    <tr>\n",
       "      <th>3</th>\n",
       "      <td>2021S000142</td>\n",
       "      <td>04/01/2021</td>\n",
       "      <td>11:30:00</td>\n",
       "      <td>PLAZA. GRECIA / AVDA. ARCENTALES wanda farola 20</td>\n",
       "      <td>1</td>\n",
       "      <td>20</td>\n",
       "      <td>SAN BLAS-CANILLEJAS</td>\n",
       "      <td>Caída</td>\n",
       "      <td>Despejado</td>\n",
       "      <td>Bicicleta</td>\n",
       "      <td>Conductor</td>\n",
       "      <td>De 21 a 24 años</td>\n",
       "      <td>Hombre</td>\n",
       "      <td>14.0</td>\n",
       "      <td>Sin asistencia sanitaria</td>\n",
       "      <td>448.606.811</td>\n",
       "      <td>4.476.216.426</td>\n",
       "      <td>N</td>\n",
       "      <td>NaN</td>\n",
       "    </tr>\n",
       "    <tr>\n",
       "      <th>4</th>\n",
       "      <td>2021S000142</td>\n",
       "      <td>04/01/2021</td>\n",
       "      <td>11:30:00</td>\n",
       "      <td>PLAZA. GRECIA / AVDA. ARCENTALES wanda farola 20</td>\n",
       "      <td>1</td>\n",
       "      <td>20</td>\n",
       "      <td>SAN BLAS-CANILLEJAS</td>\n",
       "      <td>Caída</td>\n",
       "      <td>Despejado</td>\n",
       "      <td>Bicicleta</td>\n",
       "      <td>Conductor</td>\n",
       "      <td>De 50 a 54 años</td>\n",
       "      <td>Hombre</td>\n",
       "      <td>6.0</td>\n",
       "      <td>Asistencia sanitaria inmediata en centro de sa...</td>\n",
       "      <td>448.606.811</td>\n",
       "      <td>4.476.216.426</td>\n",
       "      <td>N</td>\n",
       "      <td>NaN</td>\n",
       "    </tr>\n",
       "    <tr>\n",
       "      <th>...</th>\n",
       "      <td>...</td>\n",
       "      <td>...</td>\n",
       "      <td>...</td>\n",
       "      <td>...</td>\n",
       "      <td>...</td>\n",
       "      <td>...</td>\n",
       "      <td>...</td>\n",
       "      <td>...</td>\n",
       "      <td>...</td>\n",
       "      <td>...</td>\n",
       "      <td>...</td>\n",
       "      <td>...</td>\n",
       "      <td>...</td>\n",
       "      <td>...</td>\n",
       "      <td>...</td>\n",
       "      <td>...</td>\n",
       "      <td>...</td>\n",
       "      <td>...</td>\n",
       "      <td>...</td>\n",
       "    </tr>\n",
       "    <tr>\n",
       "      <th>840</th>\n",
       "      <td>2021S024926</td>\n",
       "      <td>29/12/2021</td>\n",
       "      <td>13:30:00</td>\n",
       "      <td>AVDA. RAMON Y CAJAL / PASEO. CEREZOS</td>\n",
       "      <td>81</td>\n",
       "      <td>5</td>\n",
       "      <td>CHAMARTÍN</td>\n",
       "      <td>Caída</td>\n",
       "      <td>Despejado</td>\n",
       "      <td>Bicicleta</td>\n",
       "      <td>Conductor</td>\n",
       "      <td>De 50 a 54 años</td>\n",
       "      <td>Hombre</td>\n",
       "      <td>2.0</td>\n",
       "      <td>Ingreso inferior o igual a 24 horas</td>\n",
       "      <td>443.594.681</td>\n",
       "      <td>4.478.221.621</td>\n",
       "      <td>N</td>\n",
       "      <td>NaN</td>\n",
       "    </tr>\n",
       "    <tr>\n",
       "      <th>841</th>\n",
       "      <td>2021S024995</td>\n",
       "      <td>30/12/2021</td>\n",
       "      <td>21:00:00</td>\n",
       "      <td>CALL. BERRUGUETE, 22</td>\n",
       "      <td>22</td>\n",
       "      <td>6</td>\n",
       "      <td>TETUÁN</td>\n",
       "      <td>Caída</td>\n",
       "      <td>Despejado</td>\n",
       "      <td>Bicicleta</td>\n",
       "      <td>Conductor</td>\n",
       "      <td>De 25 a 29 años</td>\n",
       "      <td>Mujer</td>\n",
       "      <td>NaN</td>\n",
       "      <td>NaN</td>\n",
       "      <td>440.291.735</td>\n",
       "      <td>4.478.733.191</td>\n",
       "      <td>N</td>\n",
       "      <td>NaN</td>\n",
       "    </tr>\n",
       "    <tr>\n",
       "      <th>842</th>\n",
       "      <td>2021S025055</td>\n",
       "      <td>30/12/2021</td>\n",
       "      <td>14:40:00</td>\n",
       "      <td>CALL. ENTRE ARROYOS, 11</td>\n",
       "      <td>11</td>\n",
       "      <td>14</td>\n",
       "      <td>MORATALAZ</td>\n",
       "      <td>Caída</td>\n",
       "      <td>Despejado</td>\n",
       "      <td>Bicicleta</td>\n",
       "      <td>Conductor</td>\n",
       "      <td>De 30 a 34 años</td>\n",
       "      <td>Mujer</td>\n",
       "      <td>14.0</td>\n",
       "      <td>Sin asistencia sanitaria</td>\n",
       "      <td>444.385.821</td>\n",
       "      <td>4.473.305.098</td>\n",
       "      <td>N</td>\n",
       "      <td>NaN</td>\n",
       "    </tr>\n",
       "    <tr>\n",
       "      <th>843</th>\n",
       "      <td>2021S025077</td>\n",
       "      <td>29/12/2021</td>\n",
       "      <td>23:10:00</td>\n",
       "      <td>CALL. TOMELLOSO / CALL. CRISTO DE LA VEGA</td>\n",
       "      <td>63</td>\n",
       "      <td>12</td>\n",
       "      <td>USERA</td>\n",
       "      <td>Colisión fronto-lateral</td>\n",
       "      <td>Despejado</td>\n",
       "      <td>Bicicleta</td>\n",
       "      <td>Conductor</td>\n",
       "      <td>De 21 a 24 años</td>\n",
       "      <td>Hombre</td>\n",
       "      <td>7.0</td>\n",
       "      <td>Asistencia sanitaria sólo en el lugar del acci...</td>\n",
       "      <td>440.557.175</td>\n",
       "      <td>4.470.111.030</td>\n",
       "      <td>N</td>\n",
       "      <td>NaN</td>\n",
       "    </tr>\n",
       "    <tr>\n",
       "      <th>844</th>\n",
       "      <td>2021S025094</td>\n",
       "      <td>29/12/2021</td>\n",
       "      <td>21:20:00</td>\n",
       "      <td>CALL. ALFREDO MARQUERIE / AVDA. CARDENAL HERRE...</td>\n",
       "      <td>1</td>\n",
       "      <td>8</td>\n",
       "      <td>FUENCARRAL-EL PARDO</td>\n",
       "      <td>Colisión lateral</td>\n",
       "      <td>NaN</td>\n",
       "      <td>Bicicleta</td>\n",
       "      <td>Conductor</td>\n",
       "      <td>De 50 a 54 años</td>\n",
       "      <td>Hombre</td>\n",
       "      <td>NaN</td>\n",
       "      <td>NaN</td>\n",
       "      <td>440.451.148</td>\n",
       "      <td>4.482.181.906</td>\n",
       "      <td>N</td>\n",
       "      <td>NaN</td>\n",
       "    </tr>\n",
       "  </tbody>\n",
       "</table>\n",
       "<p>845 rows × 19 columns</p>\n",
       "</div>"
      ],
      "text/plain": [
       "    num_expediente       fecha      hora  \\\n",
       "0      2021S000047  01/01/2021  11:38:00   \n",
       "1      2021S000142  04/01/2021  11:30:00   \n",
       "2      2021S000142  04/01/2021  11:30:00   \n",
       "3      2021S000142  04/01/2021  11:30:00   \n",
       "4      2021S000142  04/01/2021  11:30:00   \n",
       "..             ...         ...       ...   \n",
       "840    2021S024926  29/12/2021  13:30:00   \n",
       "841    2021S024995  30/12/2021  21:00:00   \n",
       "842    2021S025055  30/12/2021  14:40:00   \n",
       "843    2021S025077  29/12/2021  23:10:00   \n",
       "844    2021S025094  29/12/2021  21:20:00   \n",
       "\n",
       "                                          localizacion numero  cod_distrito  \\\n",
       "0    CALL. JOSE BERGAMIN / CALL. FLORENCIO CANO CRI...     62            14   \n",
       "1     PLAZA. GRECIA / AVDA. ARCENTALES wanda farola 20      1            20   \n",
       "2     PLAZA. GRECIA / AVDA. ARCENTALES wanda farola 20      1            20   \n",
       "3     PLAZA. GRECIA / AVDA. ARCENTALES wanda farola 20      1            20   \n",
       "4     PLAZA. GRECIA / AVDA. ARCENTALES wanda farola 20      1            20   \n",
       "..                                                 ...    ...           ...   \n",
       "840               AVDA. RAMON Y CAJAL / PASEO. CEREZOS     81             5   \n",
       "841                               CALL. BERRUGUETE, 22     22             6   \n",
       "842                            CALL. ENTRE ARROYOS, 11     11            14   \n",
       "843          CALL. TOMELLOSO / CALL. CRISTO DE LA VEGA     63            12   \n",
       "844  CALL. ALFREDO MARQUERIE / AVDA. CARDENAL HERRE...      1             8   \n",
       "\n",
       "                distrito           tipo_accidente estado_meteorológico  \\\n",
       "0              MORATALAZ                    Caída            Despejado   \n",
       "1    SAN BLAS-CANILLEJAS                    Caída            Despejado   \n",
       "2    SAN BLAS-CANILLEJAS                    Caída            Despejado   \n",
       "3    SAN BLAS-CANILLEJAS                    Caída            Despejado   \n",
       "4    SAN BLAS-CANILLEJAS                    Caída            Despejado   \n",
       "..                   ...                      ...                  ...   \n",
       "840            CHAMARTÍN                    Caída            Despejado   \n",
       "841               TETUÁN                    Caída            Despejado   \n",
       "842            MORATALAZ                    Caída            Despejado   \n",
       "843                USERA  Colisión fronto-lateral            Despejado   \n",
       "844  FUENCARRAL-EL PARDO         Colisión lateral                  NaN   \n",
       "\n",
       "    tipo_vehículo tipo_persona       rango_edad    sexo  cod_lesividad  \\\n",
       "0       Bicicleta    Conductor  De 45 a 49 años  Hombre            2.0   \n",
       "1       Bicicleta    Conductor  De 15 a 17 años  Hombre           14.0   \n",
       "2       Bicicleta    Conductor  De 18 a 20 años  Hombre           14.0   \n",
       "3       Bicicleta    Conductor  De 21 a 24 años  Hombre           14.0   \n",
       "4       Bicicleta    Conductor  De 50 a 54 años  Hombre            6.0   \n",
       "..            ...          ...              ...     ...            ...   \n",
       "840     Bicicleta    Conductor  De 50 a 54 años  Hombre            2.0   \n",
       "841     Bicicleta    Conductor  De 25 a 29 años   Mujer            NaN   \n",
       "842     Bicicleta    Conductor  De 30 a 34 años   Mujer           14.0   \n",
       "843     Bicicleta    Conductor  De 21 a 24 años  Hombre            7.0   \n",
       "844     Bicicleta    Conductor  De 50 a 54 años  Hombre            NaN   \n",
       "\n",
       "                                        tipo_lesividad coordenada_x_utm  \\\n",
       "0                  Ingreso inferior o igual a 24 horas      446.426.917   \n",
       "1                             Sin asistencia sanitaria      448.606.811   \n",
       "2                             Sin asistencia sanitaria      448.606.811   \n",
       "3                             Sin asistencia sanitaria      448.606.811   \n",
       "4    Asistencia sanitaria inmediata en centro de sa...      448.606.811   \n",
       "..                                                 ...              ...   \n",
       "840                Ingreso inferior o igual a 24 horas      443.594.681   \n",
       "841                                                NaN      440.291.735   \n",
       "842                           Sin asistencia sanitaria      444.385.821   \n",
       "843  Asistencia sanitaria sólo en el lugar del acci...      440.557.175   \n",
       "844                                                NaN      440.451.148   \n",
       "\n",
       "    coordenada_y_utm positiva_alcohol  positiva_droga  \n",
       "0      4.473.586.644                N             NaN  \n",
       "1      4.476.216.426                N             NaN  \n",
       "2      4.476.216.426                N             NaN  \n",
       "3      4.476.216.426                N             NaN  \n",
       "4      4.476.216.426                N             NaN  \n",
       "..               ...              ...             ...  \n",
       "840    4.478.221.621                N             NaN  \n",
       "841    4.478.733.191                N             NaN  \n",
       "842    4.473.305.098                N             NaN  \n",
       "843    4.470.111.030                N             NaN  \n",
       "844    4.482.181.906                N             NaN  \n",
       "\n",
       "[845 rows x 19 columns]"
      ]
     },
     "execution_count": 83,
     "metadata": {},
     "output_type": "execute_result"
    }
   ],
   "source": [
    "accidentes_bicicletas"
   ]
  },
  {
   "cell_type": "code",
   "execution_count": 84,
   "id": "ea89171c",
   "metadata": {},
   "outputs": [
    {
     "name": "stdout",
     "output_type": "stream",
     "text": [
      "rango_edad\n",
      "De 10 a 14 años     27\n",
      "De 15 a 17 años     25\n",
      "De 18 a 20 años     39\n",
      "De 21 a 24 años     67\n",
      "De 25 a 29 años    107\n",
      "De 30 a 34 años    101\n",
      "De 35 a 39 años     91\n",
      "De 40 a 44 años     86\n",
      "De 45 a 49 años     73\n",
      "De 50 a 54 años     72\n",
      "De 55 a 59 años     63\n",
      "De 6 a 9 años        9\n",
      "De 60 a 64 años     26\n",
      "De 65 a 69 años     16\n",
      "De 70 a 74 años     12\n",
      "Desconocido         21\n",
      "Menor de 5 años      3\n",
      "Más de 74 años       7\n",
      "dtype: int64\n"
     ]
    }
   ],
   "source": [
    "#Accidentes por edad\n",
    "accidentes_por_edad = accidentes_bicicletas.groupby(by=\"rango_edad\").size()\n",
    "accidentes_por_edad\n",
    "print(accidentes_por_edad)"
   ]
  },
  {
   "cell_type": "code",
   "execution_count": 85,
   "id": "d7963a36",
   "metadata": {},
   "outputs": [
    {
     "data": {
      "text/plain": [
       "[Text(0, 0, 'De 10 a 14 años'),\n",
       " Text(1, 0, 'De 15 a 17 años'),\n",
       " Text(2, 0, 'De 18 a 20 años'),\n",
       " Text(3, 0, 'De 21 a 24 años'),\n",
       " Text(4, 0, 'De 25 a 29 años'),\n",
       " Text(5, 0, 'De 30 a 34 años'),\n",
       " Text(6, 0, 'De 35 a 39 años'),\n",
       " Text(7, 0, 'De 40 a 44 años'),\n",
       " Text(8, 0, 'De 45 a 49 años'),\n",
       " Text(9, 0, 'De 50 a 54 años'),\n",
       " Text(10, 0, 'De 55 a 59 años'),\n",
       " Text(11, 0, 'De 6 a 9 años'),\n",
       " Text(12, 0, 'De 60 a 64 años'),\n",
       " Text(13, 0, 'De 65 a 69 años'),\n",
       " Text(14, 0, 'De 70 a 74 años'),\n",
       " Text(15, 0, 'Desconocido'),\n",
       " Text(16, 0, 'Menor de 5 años'),\n",
       " Text(17, 0, 'Más de 74 años')]"
      ]
     },
     "execution_count": 85,
     "metadata": {},
     "output_type": "execute_result"
    },
    {
     "data": {
      "image/png": "[encoded data removed]",
      "text/plain": [
       "<Figure size 432x288 with 1 Axes>"
      ]
     },
     "metadata": {
      "needs_background": "light"
     },
     "output_type": "display_data"
    }
   ],
   "source": [
    "histograma = sns.barplot(x=accidentes_por_edad.index, y=accidentes_por_edad.values)\n",
    "histograma.set_xticklabels(histograma.get_xticklabels(),rotation = 90)"
   ]
  },
  {
   "cell_type": "code",
   "execution_count": 86,
   "id": "e0707cdc",
   "metadata": {},
   "outputs": [
    {
     "name": "stdout",
     "output_type": "stream",
     "text": [
      "sexo\n",
      "Desconocido     18\n",
      "Hombre         617\n",
      "Mujer          210\n",
      "dtype: int64\n"
     ]
    }
   ],
   "source": [
    "#Accidentes por sexo\n",
    "accidentes_por_sexo = accidentes_bicicletas.groupby(by=\"sexo\").size()\n",
    "accidentes_por_sexo\n",
    "print(accidentes_por_sexo)"
   ]
  },
  {
   "cell_type": "code",
   "execution_count": 87,
   "id": "8ec16a2d",
   "metadata": {},
   "outputs": [
    {
     "data": {
      "text/plain": [
       "[Text(0, 0, 'Desconocido'), Text(1, 0, 'Hombre'), Text(2, 0, 'Mujer')]"
      ]
     },
     "execution_count": 87,
     "metadata": {},
     "output_type": "execute_result"
    },
    {
     "data": {
      "image/png": "[encoded data removed]",
      "text/plain": [
       "<Figure size 432x288 with 1 Axes>"
      ]
     },
     "metadata": {
      "needs_background": "light"
     },
     "output_type": "display_data"
    }
   ],
   "source": [
    "histograma = sns.barplot(x=accidentes_por_sexo.index, y=accidentes_por_sexo.values)\n",
    "histograma.set_xticklabels(histograma.get_xticklabels(),rotation = 90)"
   ]
  },
  {
   "cell_type": "code",
   "execution_count": 113,
   "id": "aa15f196",
   "metadata": {},
   "outputs": [
    {
     "ename": "ValueError",
     "evalue": "Unrecognized range input: '<pandas.core.strings.accessor.StringMethods object at 0x0000024C7E570550>'",
     "output_type": "error",
     "traceback": [
      "\u001b[1;31m---------------------------------------------------------------------------\u001b[0m",
      "\u001b[1;31mValueError\u001b[0m                                Traceback (most recent call last)",
      "Input \u001b[1;32mIn [113]\u001b[0m, in \u001b[0;36m<module>\u001b[1;34m\u001b[0m\n\u001b[0;32m      1\u001b[0m \u001b[38;5;66;03m#Graficas con Bokeh\u001b[39;00m\n\u001b[1;32m----> 2\u001b[0m p \u001b[38;5;241m=\u001b[39m \u001b[43mfigure\u001b[49m\u001b[43m(\u001b[49m\u001b[43mtitle\u001b[49m\u001b[38;5;241;43m=\u001b[39;49m\u001b[38;5;124;43m\"\u001b[39;49m\u001b[38;5;124;43mAccidentes por distrito\u001b[39;49m\u001b[38;5;124;43m\"\u001b[39;49m\u001b[43m,\u001b[49m\u001b[43m \u001b[49m\u001b[43mx_range\u001b[49m\u001b[38;5;241;43m=\u001b[39;49m\u001b[43maccidentes_por_distrito\u001b[49m\u001b[38;5;241;43m.\u001b[39;49m\u001b[43mindex\u001b[49m\u001b[38;5;241;43m.\u001b[39;49m\u001b[43mstr\u001b[49m\u001b[43m,\u001b[49m\u001b[43m \u001b[49m\u001b[43mx_axis_label\u001b[49m\u001b[38;5;241;43m=\u001b[39;49m\u001b[38;5;124;43m\"\u001b[39;49m\u001b[38;5;124;43mDistrito\u001b[39;49m\u001b[38;5;124;43m\"\u001b[39;49m\u001b[43m,\u001b[49m\u001b[43m \u001b[49m\u001b[43my_axis_label\u001b[49m\u001b[38;5;241;43m=\u001b[39;49m\u001b[38;5;124;43m\"\u001b[39;49m\u001b[38;5;124;43mNúmero de accidentes\u001b[39;49m\u001b[38;5;124;43m\"\u001b[39;49m\u001b[43m)\u001b[49m\n\u001b[0;32m      3\u001b[0m p\u001b[38;5;241m.\u001b[39mvbar(x\u001b[38;5;241m=\u001b[39maccidentes_por_distrito\u001b[38;5;241m.\u001b[39mindex, top\u001b[38;5;241m=\u001b[39maccidentes_por_distrito\u001b[38;5;241m.\u001b[39mvalues, legend_label\u001b[38;5;241m=\u001b[39m\u001b[38;5;124m\"\u001b[39m\u001b[38;5;124mDistrito\u001b[39m\u001b[38;5;124m\"\u001b[39m, width\u001b[38;5;241m=\u001b[39m\u001b[38;5;241m0.5\u001b[39m, bottom\u001b[38;5;241m=\u001b[39m\u001b[38;5;241m0\u001b[39m, color\u001b[38;5;241m=\u001b[39m\u001b[38;5;124m\"\u001b[39m\u001b[38;5;124mred\u001b[39m\u001b[38;5;124m\"\u001b[39m)\n\u001b[0;32m      4\u001b[0m show(p)\n",
      "File \u001b[1;32m~\\AppData\\Local\\Programs\\Python\\Python310\\lib\\site-packages\\bokeh\\plotting\\figure.py:665\u001b[0m, in \u001b[0;36mfigure\u001b[1;34m(**kwargs)\u001b[0m\n\u001b[0;32m    656\u001b[0m \u001b[38;5;28;01mdef\u001b[39;00m \u001b[38;5;21mfigure\u001b[39m(\u001b[38;5;241m*\u001b[39m\u001b[38;5;241m*\u001b[39mkwargs: TAny) \u001b[38;5;241m-\u001b[39m\u001b[38;5;241m>\u001b[39m Figure:\n\u001b[0;32m    657\u001b[0m     \u001b[38;5;124;03m''' Create a new :class:`~bokeh.plotting.Figure` for plotting.\u001b[39;00m\n\u001b[0;32m    658\u001b[0m \n\u001b[0;32m    659\u001b[0m \u001b[38;5;124;03m    All other keyword arguments are passed to :class:`~bokeh.plotting.Figure`.\u001b[39;00m\n\u001b[1;32m   (...)\u001b[0m\n\u001b[0;32m    663\u001b[0m \n\u001b[0;32m    664\u001b[0m \u001b[38;5;124;03m    '''\u001b[39;00m\n\u001b[1;32m--> 665\u001b[0m     \u001b[38;5;28;01mreturn\u001b[39;00m Figure(\u001b[38;5;241m*\u001b[39m\u001b[38;5;241m*\u001b[39mkwargs)\n",
      "File \u001b[1;32m~\\AppData\\Local\\Programs\\Python\\Python310\\lib\\site-packages\\bokeh\\plotting\\figure.py:178\u001b[0m, in \u001b[0;36mFigure.__init__\u001b[1;34m(self, *arg, **kw)\u001b[0m\n\u001b[0;32m    175\u001b[0m opts \u001b[38;5;241m=\u001b[39m FigureOptions(kw)\n\u001b[0;32m    176\u001b[0m \u001b[38;5;28msuper\u001b[39m()\u001b[38;5;241m.\u001b[39m\u001b[38;5;21m__init__\u001b[39m(\u001b[38;5;241m*\u001b[39marg, \u001b[38;5;241m*\u001b[39m\u001b[38;5;241m*\u001b[39mkw)\n\u001b[1;32m--> 178\u001b[0m \u001b[38;5;28mself\u001b[39m\u001b[38;5;241m.\u001b[39mx_range \u001b[38;5;241m=\u001b[39m \u001b[43mget_range\u001b[49m\u001b[43m(\u001b[49m\u001b[43mopts\u001b[49m\u001b[38;5;241;43m.\u001b[39;49m\u001b[43mx_range\u001b[49m\u001b[43m)\u001b[49m\n\u001b[0;32m    179\u001b[0m \u001b[38;5;28mself\u001b[39m\u001b[38;5;241m.\u001b[39my_range \u001b[38;5;241m=\u001b[39m get_range(opts\u001b[38;5;241m.\u001b[39my_range)\n\u001b[0;32m    181\u001b[0m \u001b[38;5;28mself\u001b[39m\u001b[38;5;241m.\u001b[39mx_scale \u001b[38;5;241m=\u001b[39m get_scale(\u001b[38;5;28mself\u001b[39m\u001b[38;5;241m.\u001b[39mx_range, opts\u001b[38;5;241m.\u001b[39mx_axis_type)\n",
      "File \u001b[1;32m~\\AppData\\Local\\Programs\\Python\\Python310\\lib\\site-packages\\bokeh\\plotting\\_plot.py:89\u001b[0m, in \u001b[0;36mget_range\u001b[1;34m(range_input)\u001b[0m\n\u001b[0;32m     87\u001b[0m         \u001b[38;5;28;01mexcept\u001b[39;00m \u001b[38;5;167;01mValueError\u001b[39;00m:  \u001b[38;5;66;03m# @mattpap suggests ValidationError instead\u001b[39;00m\n\u001b[0;32m     88\u001b[0m             \u001b[38;5;28;01mpass\u001b[39;00m\n\u001b[1;32m---> 89\u001b[0m \u001b[38;5;28;01mraise\u001b[39;00m \u001b[38;5;167;01mValueError\u001b[39;00m(\u001b[38;5;124m\"\u001b[39m\u001b[38;5;124mUnrecognized range input: \u001b[39m\u001b[38;5;124m'\u001b[39m\u001b[38;5;132;01m%s\u001b[39;00m\u001b[38;5;124m'\u001b[39m\u001b[38;5;124m\"\u001b[39m \u001b[38;5;241m%\u001b[39m \u001b[38;5;28mstr\u001b[39m(range_input))\n",
      "\u001b[1;31mValueError\u001b[0m: Unrecognized range input: '<pandas.core.strings.accessor.StringMethods object at 0x0000024C7E570550>'"
     ]
    }
   ],
   "source": [
    "#Graficas con Bokeh\n",
    "p = figure(title=\"Accidentes por distrito\", x_range=accidentes_por_distrito.index.str, x_axis_label=\"Distrito\", y_axis_label=\"Número de accidentes\")\n",
    "p.vbar(x=accidentes_por_distrito.index, top=accidentes_por_distrito.values, legend_label=\"Distrito\", width=0.5, bottom=0, color=\"red\")\n",
    "show(p)"
   ]
  },
  {
   "cell_type": "code",
   "execution_count": 107,
   "id": "ce314add",
   "metadata": {},
   "outputs": [],
   "source": [
    "# prepare some data\n",
    "x = [1, 2, 3, 4, 5]\n",
    "y2 = [2, 3, 4, 5, 6]\n",
    "\n",
    "# create a new plot with a title and axis labels\n",
    "p = figure(title=\"Multiple glyphs example\", x_axis_label=\"x\", y_axis_label=\"y\")\n",
    "\n",
    "# add multiple renderers\n",
    "p.vbar(x=accidentes_por_distrito.index, top=accidentes_por_distrito.values, legend_label=\"Rate\", width=0.5, bottom=0, color=\"red\")\n",
    "\n",
    "# show the results\n",
    "show(p)"
   ]
  }
 ],
 "metadata": {
  "kernelspec": {
   "display_name": "Python 3 (ipykernel)",
   "language": "python",
   "name": "python3"
  },
  "language_info": {
   "codemirror_mode": {
    "name": "ipython",
    "version": 3
   },
   "file_extension": ".py",
   "mimetype": "text/x-python",
   "name": "python",
   "nbconvert_exporter": "python",
   "pygments_lexer": "ipython3",
   "version": "3.10.2"
  }
 },
 "nbformat": 4,
 "nbformat_minor": 5
}
