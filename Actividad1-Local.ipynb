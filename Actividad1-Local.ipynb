{
 "cells": [
  {
   "cell_type": "code",
   "execution_count": 1,
   "id": "6a930ccb",
   "metadata": {},
   "outputs": [
    {
     "name": "stdout",
     "output_type": "stream",
     "text": [
      "Requirement already satisfied: psycopg2 in c:\\users\\jaime\\appdata\\local\\programs\\python\\python310\\lib\\site-packages (2.9.3)\n"
     ]
    },
    {
     "name": "stderr",
     "output_type": "stream",
     "text": [
      "WARNING: You are using pip version 21.3.1; however, version 22.0.3 is available.\n",
      "You should consider upgrading via the 'C:\\Users\\jaime\\AppData\\Local\\Programs\\Python\\Python310\\python.exe -m pip install --upgrade pip' command.\n"
     ]
    }
   ],
   "source": [
    "!pip install psycopg2\n"
   ]
  },
  {
   "cell_type": "code",
   "execution_count": 2,
   "id": "804b9e6f",
   "metadata": {},
   "outputs": [],
   "source": [
    "import psycopg2"
   ]
  },
  {
   "cell_type": "code",
   "execution_count": 43,
   "id": "742dd106",
   "metadata": {},
   "outputs": [],
   "source": [
    "bbdd = 'Actividad1';\n",
    "usuario = 'postgres';\n",
    "password = '******';\n",
    "maquina = 'localhost';\n",
    "puerto = '5432';"
   ]
  },
  {
   "cell_type": "code",
   "execution_count": 44,
   "id": "e063cd94",
   "metadata": {},
   "outputs": [],
   "source": [
    "# Conectar a la base de datos\n",
    "conexion2 = psycopg2.connect(dbname=bbdd,\n",
    "                            user=usuario,\n",
    "                            password=password,\n",
    "                            host=maquina,\n",
    "                            port=puerto\n",
    ")"
   ]
  },
  {
   "cell_type": "code",
   "execution_count": 45,
   "id": "560d542e",
   "metadata": {},
   "outputs": [],
   "source": [
    "# Abrir un cursor para poder realizar operaciones sobre la base de datos\n",
    "cursor2 = conexion2.cursor()"
   ]
  },
  {
   "cell_type": "code",
   "execution_count": 6,
   "id": "1e89edcc",
   "metadata": {},
   "outputs": [],
   "source": [
    "# Creamos una tabla de ejemplo\n",
    "cursor2.execute(\"CREATE TABLE tabla_python ( \\\n",
    "                 id SERIAL, \\\n",
    "                 texto    VARCHAR(100), \\\n",
    "                 CONSTRAINT pk_tabla_python PRIMARY KEY (id)\\\n",
    "                 );\"\n",
    "                )"
   ]
  },
  {
   "cell_type": "code",
   "execution_count": 7,
   "id": "fd88d6e5",
   "metadata": {},
   "outputs": [],
   "source": [
    "conexion2.commit()\n"
   ]
  },
  {
   "cell_type": "code",
   "execution_count": 38,
   "id": "caa98e0f",
   "metadata": {},
   "outputs": [],
   "source": [
    "cursor2.execute(\"INSERT INTO tabla_python(texto) VALUES('TEXTO DE PRUEBA 2');\")"
   ]
  },
  {
   "cell_type": "code",
   "execution_count": 39,
   "id": "39300726",
   "metadata": {},
   "outputs": [],
   "source": [
    "conexion2.commit()"
   ]
  },
  {
   "cell_type": "code",
   "execution_count": 47,
   "id": "e0be0ebd",
   "metadata": {},
   "outputs": [
    {
     "data": {
      "text/plain": [
       "[(1, 'TEXTO DE PRUEBA'), (2, 'TEXTO DE PRUEBA 2')]"
      ]
     },
     "execution_count": 47,
     "metadata": {},
     "output_type": "execute_result"
    }
   ],
   "source": [
    "# Realizar consultas\n",
    "cursor2.execute(\"SELECT * FROM tabla_python;\")\n",
    "# fetchone() devuelve una fila\n",
    "cursor2.fetchall()"
   ]
  },
  {
   "cell_type": "code",
   "execution_count": 48,
   "id": "91239b6e",
   "metadata": {},
   "outputs": [],
   "source": [
    "# Cerrar el cursor\n",
    "cursor2.close()"
   ]
  },
  {
   "cell_type": "code",
   "execution_count": 49,
   "id": "833bf1af",
   "metadata": {},
   "outputs": [],
   "source": [
    "# Cerrar la conexión\n",
    "conexion2.close()"
   ]
  },
  {
   "cell_type": "code",
   "execution_count": null,
   "id": "ba3f3223",
   "metadata": {},
   "outputs": [],
   "source": []
  }
 ],
 "metadata": {
  "kernelspec": {
   "display_name": "Python 3 (ipykernel)",
   "language": "python",
   "name": "python3"
  },
  "language_info": {
   "codemirror_mode": {
    "name": "ipython",
    "version": 3
   },
   "file_extension": ".py",
   "mimetype": "text/x-python",
   "name": "python",
   "nbconvert_exporter": "python",
   "pygments_lexer": "ipython3",
   "version": "3.10.2"
  }
 },
 "nbformat": 4,
 "nbformat_minor": 5
}
