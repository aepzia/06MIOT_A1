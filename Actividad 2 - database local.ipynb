{
 "cells": [
  {
   "cell_type": "code",
   "execution_count": 6,
   "id": "49acd577",
   "metadata": {},
   "outputs": [
    {
     "name": "stdout",
     "output_type": "stream",
     "text": [
      "Requirement already satisfied: pandas in c:\\users\\jaime\\appdata\\local\\programs\\python\\python310\\lib\\site-packages (1.4.1)\n",
      "Requirement already satisfied: python-dateutil>=2.8.1 in c:\\users\\jaime\\appdata\\local\\programs\\python\\python310\\lib\\site-packages (from pandas) (2.8.2)\n",
      "Requirement already satisfied: pytz>=2020.1 in c:\\users\\jaime\\appdata\\local\\programs\\python\\python310\\lib\\site-packages (from pandas) (2021.3)\n",
      "Requirement already satisfied: numpy>=1.21.0 in c:\\users\\jaime\\appdata\\local\\programs\\python\\python310\\lib\\site-packages (from pandas) (1.22.2)\n",
      "Requirement already satisfied: six>=1.5 in c:\\users\\jaime\\appdata\\local\\programs\\python\\python310\\lib\\site-packages (from python-dateutil>=2.8.1->pandas) (1.16.0)\n"
     ]
    },
    {
     "name": "stderr",
     "output_type": "stream",
     "text": [
      "WARNING: You are using pip version 21.3.1; however, version 22.0.3 is available.\n",
      "You should consider upgrading via the 'C:\\Users\\jaime\\AppData\\Local\\Programs\\Python\\Python310\\python.exe -m pip install --upgrade pip' command.\n"
     ]
    },
    {
     "name": "stdout",
     "output_type": "stream",
     "text": [
      "Requirement already satisfied: dnspython in c:\\users\\jaime\\appdata\\local\\programs\\python\\python310\\lib\\site-packages (2.2.0)\n"
     ]
    },
    {
     "name": "stderr",
     "output_type": "stream",
     "text": [
      "WARNING: You are using pip version 21.3.1; however, version 22.0.3 is available.\n",
      "You should consider upgrading via the 'C:\\Users\\jaime\\AppData\\Local\\Programs\\Python\\Python310\\python.exe -m pip install --upgrade pip' command.\n"
     ]
    },
    {
     "name": "stdout",
     "output_type": "stream",
     "text": [
      "Requirement already satisfied: pymongo in c:\\users\\jaime\\appdata\\local\\programs\\python\\python310\\lib\\site-packages (4.0.1)\n"
     ]
    },
    {
     "name": "stderr",
     "output_type": "stream",
     "text": [
      "WARNING: You are using pip version 21.3.1; however, version 22.0.3 is available.\n",
      "You should consider upgrading via the 'C:\\Users\\jaime\\AppData\\Local\\Programs\\Python\\Python310\\python.exe -m pip install --upgrade pip' command.\n"
     ]
    }
   ],
   "source": [
    "#Instalar pandas, dnspython\n",
    "!pip install pandas\n",
    "!pip install dnspython\n",
    "# Instalar la librería pymongo, para trabajar con bases de datos no relacionales MongoDB\n",
    "!pip install pymongo"
   ]
  },
  {
   "cell_type": "code",
   "execution_count": 7,
   "id": "52da5603",
   "metadata": {},
   "outputs": [],
   "source": [
    "import pandas as pd\n",
    "import numpy as np\n",
    "# Se usa la librería pymongo para \n",
    "import pymongo"
   ]
  },
  {
   "cell_type": "code",
   "execution_count": 8,
   "id": "60ce3570",
   "metadata": {},
   "outputs": [],
   "source": [
    "#Carga del csv a manipular\n",
    "accidentes_bicicletas=pd.read_csv(\"./AccidentesBicicletas_2021.csv\", sep=\";\")"
   ]
  },
  {
   "cell_type": "code",
   "execution_count": 9,
   "id": "397657e0",
   "metadata": {},
   "outputs": [
    {
     "data": {
      "text/html": [
       "<div>\n",
       "<style scoped>\n",
       "    .dataframe tbody tr th:only-of-type {\n",
       "        vertical-align: middle;\n",
       "    }\n",
       "\n",
       "    .dataframe tbody tr th {\n",
       "        vertical-align: top;\n",
       "    }\n",
       "\n",
       "    .dataframe thead th {\n",
       "        text-align: right;\n",
       "    }\n",
       "</style>\n",
       "<table border=\"1\" class=\"dataframe\">\n",
       "  <thead>\n",
       "    <tr style=\"text-align: right;\">\n",
       "      <th></th>\n",
       "      <th>fecha</th>\n",
       "      <th>hora</th>\n",
       "      <th>localizacion</th>\n",
       "      <th>distrito</th>\n",
       "      <th>tipo_accidente</th>\n",
       "      <th>estado_meteorológico</th>\n",
       "      <th>tipo_vehículo</th>\n",
       "      <th>tipo_persona</th>\n",
       "      <th>rango_edad</th>\n",
       "      <th>sexo</th>\n",
       "      <th>cod_lesividad</th>\n",
       "      <th>positiva_alcohol</th>\n",
       "    </tr>\n",
       "  </thead>\n",
       "  <tbody>\n",
       "    <tr>\n",
       "      <th>0</th>\n",
       "      <td>01/01/2021</td>\n",
       "      <td>11:38:00</td>\n",
       "      <td>CALL. JOSE BERGAMIN / CALL. FLORENCIO CANO CRI...</td>\n",
       "      <td>MORATALAZ</td>\n",
       "      <td>Caída</td>\n",
       "      <td>Despejado</td>\n",
       "      <td>Bicicleta</td>\n",
       "      <td>Conductor</td>\n",
       "      <td>De 45 a 49 años</td>\n",
       "      <td>Hombre</td>\n",
       "      <td>2.0</td>\n",
       "      <td>N</td>\n",
       "    </tr>\n",
       "    <tr>\n",
       "      <th>1</th>\n",
       "      <td>04/01/2021</td>\n",
       "      <td>11:30:00</td>\n",
       "      <td>PLAZA. GRECIA / AVDA. ARCENTALES wanda farola 20</td>\n",
       "      <td>SAN BLAS-CANILLEJAS</td>\n",
       "      <td>Caída</td>\n",
       "      <td>Despejado</td>\n",
       "      <td>Bicicleta</td>\n",
       "      <td>Conductor</td>\n",
       "      <td>De 15 a 17 años</td>\n",
       "      <td>Hombre</td>\n",
       "      <td>14.0</td>\n",
       "      <td>N</td>\n",
       "    </tr>\n",
       "    <tr>\n",
       "      <th>2</th>\n",
       "      <td>04/01/2021</td>\n",
       "      <td>11:30:00</td>\n",
       "      <td>PLAZA. GRECIA / AVDA. ARCENTALES wanda farola 20</td>\n",
       "      <td>SAN BLAS-CANILLEJAS</td>\n",
       "      <td>Caída</td>\n",
       "      <td>Despejado</td>\n",
       "      <td>Bicicleta</td>\n",
       "      <td>Conductor</td>\n",
       "      <td>De 18 a 20 años</td>\n",
       "      <td>Hombre</td>\n",
       "      <td>14.0</td>\n",
       "      <td>N</td>\n",
       "    </tr>\n",
       "    <tr>\n",
       "      <th>3</th>\n",
       "      <td>04/01/2021</td>\n",
       "      <td>11:30:00</td>\n",
       "      <td>PLAZA. GRECIA / AVDA. ARCENTALES wanda farola 20</td>\n",
       "      <td>SAN BLAS-CANILLEJAS</td>\n",
       "      <td>Caída</td>\n",
       "      <td>Despejado</td>\n",
       "      <td>Bicicleta</td>\n",
       "      <td>Conductor</td>\n",
       "      <td>De 21 a 24 años</td>\n",
       "      <td>Hombre</td>\n",
       "      <td>14.0</td>\n",
       "      <td>N</td>\n",
       "    </tr>\n",
       "    <tr>\n",
       "      <th>4</th>\n",
       "      <td>04/01/2021</td>\n",
       "      <td>11:30:00</td>\n",
       "      <td>PLAZA. GRECIA / AVDA. ARCENTALES wanda farola 20</td>\n",
       "      <td>SAN BLAS-CANILLEJAS</td>\n",
       "      <td>Caída</td>\n",
       "      <td>Despejado</td>\n",
       "      <td>Bicicleta</td>\n",
       "      <td>Conductor</td>\n",
       "      <td>De 50 a 54 años</td>\n",
       "      <td>Hombre</td>\n",
       "      <td>6.0</td>\n",
       "      <td>N</td>\n",
       "    </tr>\n",
       "    <tr>\n",
       "      <th>...</th>\n",
       "      <td>...</td>\n",
       "      <td>...</td>\n",
       "      <td>...</td>\n",
       "      <td>...</td>\n",
       "      <td>...</td>\n",
       "      <td>...</td>\n",
       "      <td>...</td>\n",
       "      <td>...</td>\n",
       "      <td>...</td>\n",
       "      <td>...</td>\n",
       "      <td>...</td>\n",
       "      <td>...</td>\n",
       "    </tr>\n",
       "    <tr>\n",
       "      <th>840</th>\n",
       "      <td>29/12/2021</td>\n",
       "      <td>13:30:00</td>\n",
       "      <td>AVDA. RAMON Y CAJAL / PASEO. CEREZOS</td>\n",
       "      <td>CHAMARTÍN</td>\n",
       "      <td>Caída</td>\n",
       "      <td>Despejado</td>\n",
       "      <td>Bicicleta</td>\n",
       "      <td>Conductor</td>\n",
       "      <td>De 50 a 54 años</td>\n",
       "      <td>Hombre</td>\n",
       "      <td>2.0</td>\n",
       "      <td>N</td>\n",
       "    </tr>\n",
       "    <tr>\n",
       "      <th>841</th>\n",
       "      <td>30/12/2021</td>\n",
       "      <td>21:00:00</td>\n",
       "      <td>CALL. BERRUGUETE, 22</td>\n",
       "      <td>TETUÁN</td>\n",
       "      <td>Caída</td>\n",
       "      <td>Despejado</td>\n",
       "      <td>Bicicleta</td>\n",
       "      <td>Conductor</td>\n",
       "      <td>De 25 a 29 años</td>\n",
       "      <td>Mujer</td>\n",
       "      <td>NaN</td>\n",
       "      <td>N</td>\n",
       "    </tr>\n",
       "    <tr>\n",
       "      <th>842</th>\n",
       "      <td>30/12/2021</td>\n",
       "      <td>14:40:00</td>\n",
       "      <td>CALL. ENTRE ARROYOS, 11</td>\n",
       "      <td>MORATALAZ</td>\n",
       "      <td>Caída</td>\n",
       "      <td>Despejado</td>\n",
       "      <td>Bicicleta</td>\n",
       "      <td>Conductor</td>\n",
       "      <td>De 30 a 34 años</td>\n",
       "      <td>Mujer</td>\n",
       "      <td>14.0</td>\n",
       "      <td>N</td>\n",
       "    </tr>\n",
       "    <tr>\n",
       "      <th>843</th>\n",
       "      <td>29/12/2021</td>\n",
       "      <td>23:10:00</td>\n",
       "      <td>CALL. TOMELLOSO / CALL. CRISTO DE LA VEGA</td>\n",
       "      <td>USERA</td>\n",
       "      <td>Colisión fronto-lateral</td>\n",
       "      <td>Despejado</td>\n",
       "      <td>Bicicleta</td>\n",
       "      <td>Conductor</td>\n",
       "      <td>De 21 a 24 años</td>\n",
       "      <td>Hombre</td>\n",
       "      <td>7.0</td>\n",
       "      <td>N</td>\n",
       "    </tr>\n",
       "    <tr>\n",
       "      <th>844</th>\n",
       "      <td>29/12/2021</td>\n",
       "      <td>21:20:00</td>\n",
       "      <td>CALL. ALFREDO MARQUERIE / AVDA. CARDENAL HERRE...</td>\n",
       "      <td>FUENCARRAL-EL PARDO</td>\n",
       "      <td>Colisión lateral</td>\n",
       "      <td>NaN</td>\n",
       "      <td>Bicicleta</td>\n",
       "      <td>Conductor</td>\n",
       "      <td>De 50 a 54 años</td>\n",
       "      <td>Hombre</td>\n",
       "      <td>NaN</td>\n",
       "      <td>N</td>\n",
       "    </tr>\n",
       "  </tbody>\n",
       "</table>\n",
       "<p>845 rows × 12 columns</p>\n",
       "</div>"
      ],
      "text/plain": [
       "          fecha      hora                                       localizacion  \\\n",
       "0    01/01/2021  11:38:00  CALL. JOSE BERGAMIN / CALL. FLORENCIO CANO CRI...   \n",
       "1    04/01/2021  11:30:00   PLAZA. GRECIA / AVDA. ARCENTALES wanda farola 20   \n",
       "2    04/01/2021  11:30:00   PLAZA. GRECIA / AVDA. ARCENTALES wanda farola 20   \n",
       "3    04/01/2021  11:30:00   PLAZA. GRECIA / AVDA. ARCENTALES wanda farola 20   \n",
       "4    04/01/2021  11:30:00   PLAZA. GRECIA / AVDA. ARCENTALES wanda farola 20   \n",
       "..          ...       ...                                                ...   \n",
       "840  29/12/2021  13:30:00               AVDA. RAMON Y CAJAL / PASEO. CEREZOS   \n",
       "841  30/12/2021  21:00:00                               CALL. BERRUGUETE, 22   \n",
       "842  30/12/2021  14:40:00                            CALL. ENTRE ARROYOS, 11   \n",
       "843  29/12/2021  23:10:00          CALL. TOMELLOSO / CALL. CRISTO DE LA VEGA   \n",
       "844  29/12/2021  21:20:00  CALL. ALFREDO MARQUERIE / AVDA. CARDENAL HERRE...   \n",
       "\n",
       "                distrito           tipo_accidente estado_meteorológico  \\\n",
       "0              MORATALAZ                    Caída            Despejado   \n",
       "1    SAN BLAS-CANILLEJAS                    Caída            Despejado   \n",
       "2    SAN BLAS-CANILLEJAS                    Caída            Despejado   \n",
       "3    SAN BLAS-CANILLEJAS                    Caída            Despejado   \n",
       "4    SAN BLAS-CANILLEJAS                    Caída            Despejado   \n",
       "..                   ...                      ...                  ...   \n",
       "840            CHAMARTÍN                    Caída            Despejado   \n",
       "841               TETUÁN                    Caída            Despejado   \n",
       "842            MORATALAZ                    Caída            Despejado   \n",
       "843                USERA  Colisión fronto-lateral            Despejado   \n",
       "844  FUENCARRAL-EL PARDO         Colisión lateral                  NaN   \n",
       "\n",
       "    tipo_vehículo tipo_persona       rango_edad    sexo  cod_lesividad  \\\n",
       "0       Bicicleta    Conductor  De 45 a 49 años  Hombre            2.0   \n",
       "1       Bicicleta    Conductor  De 15 a 17 años  Hombre           14.0   \n",
       "2       Bicicleta    Conductor  De 18 a 20 años  Hombre           14.0   \n",
       "3       Bicicleta    Conductor  De 21 a 24 años  Hombre           14.0   \n",
       "4       Bicicleta    Conductor  De 50 a 54 años  Hombre            6.0   \n",
       "..            ...          ...              ...     ...            ...   \n",
       "840     Bicicleta    Conductor  De 50 a 54 años  Hombre            2.0   \n",
       "841     Bicicleta    Conductor  De 25 a 29 años   Mujer            NaN   \n",
       "842     Bicicleta    Conductor  De 30 a 34 años   Mujer           14.0   \n",
       "843     Bicicleta    Conductor  De 21 a 24 años  Hombre            7.0   \n",
       "844     Bicicleta    Conductor  De 50 a 54 años  Hombre            NaN   \n",
       "\n",
       "    positiva_alcohol  \n",
       "0                  N  \n",
       "1                  N  \n",
       "2                  N  \n",
       "3                  N  \n",
       "4                  N  \n",
       "..               ...  \n",
       "840                N  \n",
       "841                N  \n",
       "842                N  \n",
       "843                N  \n",
       "844                N  \n",
       "\n",
       "[845 rows x 12 columns]"
      ]
     },
     "execution_count": 9,
     "metadata": {},
     "output_type": "execute_result"
    }
   ],
   "source": [
    "#Limpiamos el dataframe. Todas columnas que no necesitamos a la vez\n",
    "accidentes_bicicletas_clean = accidentes_bicicletas.drop(labels=['positiva_droga','numero','cod_distrito','tipo_lesividad','coordenada_x_utm','coordenada_y_utm','num_expediente'], axis=1, inplace=False)\n",
    "accidentes_bicicletas_clean"
   ]
  },
  {
   "cell_type": "code",
   "execution_count": 10,
   "id": "9baaea7e",
   "metadata": {},
   "outputs": [],
   "source": [
    "#Operamos en base de datos local\n",
    "uri_mongo_local=\"mongodb://localhost:27017/?readPreference=primary&appname=MongoDB%20Compass&directConnection=true&ssl=false\""
   ]
  },
  {
   "cell_type": "code",
   "execution_count": 12,
   "id": "8cc1fa31",
   "metadata": {},
   "outputs": [],
   "source": [
    "conexion = pymongo.MongoClient(uri_mongo_local)"
   ]
  },
  {
   "cell_type": "code",
   "execution_count": 13,
   "id": "bf16e3ba",
   "metadata": {},
   "outputs": [
    {
     "name": "stdout",
     "output_type": "stream",
     "text": [
      "admin\n",
      "config\n",
      "local\n"
     ]
    }
   ],
   "source": [
    "#Vemos que bases de datos hay disponibles\n",
    "todas_bbdd = conexion.list_database_names()\n",
    "for bbdd in todas_bbdd:\n",
    "    print(bbdd)"
   ]
  },
  {
   "cell_type": "code",
   "execution_count": 14,
   "id": "ccbe1c42",
   "metadata": {},
   "outputs": [],
   "source": [
    "#Obtenemos (o creamos si no existe) la base de datos bicis madrid\n",
    "base_datos = conexion.bicismadrid"
   ]
  },
  {
   "cell_type": "code",
   "execution_count": 15,
   "id": "6552928b",
   "metadata": {},
   "outputs": [],
   "source": [
    "# Obtenemos (o creamos si no existe) la coleccion accidentes bicicleta\n",
    "bicismadridaccidents = base_datos.bicismadridaccidents"
   ]
  },
  {
   "cell_type": "code",
   "execution_count": 16,
   "id": "510ec9f7",
   "metadata": {},
   "outputs": [],
   "source": [
    "#Por si queremos limpiar para empezar de cero\n",
    "#bicismadridaccidents.drop()"
   ]
  },
  {
   "cell_type": "code",
   "execution_count": 17,
   "id": "e857d685",
   "metadata": {},
   "outputs": [
    {
     "data": {
      "text/plain": [
       "<pymongo.results.InsertManyResult at 0x24c7ff20900>"
      ]
     },
     "execution_count": 17,
     "metadata": {},
     "output_type": "execute_result"
    }
   ],
   "source": [
    "#Inserta todos los valores del Dataframe de pandas como documentos en la coleccion bicismadridaccidents\n",
    "bicismadridaccidents.insert_many(accidentes_bicicletas_clean.to_dict(\"records\"))"
   ]
  },
  {
   "cell_type": "code",
   "execution_count": 18,
   "id": "5f5e2573",
   "metadata": {},
   "outputs": [
    {
     "name": "stdout",
     "output_type": "stream",
     "text": [
      "['bicismadridaccidents']\n"
     ]
    }
   ],
   "source": [
    "#Observamos que la coleccion tiene documentos\n",
    "print (base_datos.list_collection_names())"
   ]
  },
  {
   "cell_type": "code",
   "execution_count": 19,
   "id": "52d3501f",
   "metadata": {},
   "outputs": [
    {
     "data": {
      "text/plain": [
       "{'_id': ObjectId('621a155b7057832d0b285ce0'),\n",
       " 'fecha': '01/01/2021',\n",
       " 'hora': '11:38:00',\n",
       " 'localizacion': 'CALL. JOSE BERGAMIN / CALL. FLORENCIO CANO CRISTOBAL',\n",
       " 'distrito': 'MORATALAZ',\n",
       " 'tipo_accidente': 'Caída',\n",
       " 'estado_meteorológico': 'Despejado',\n",
       " 'tipo_vehículo': 'Bicicleta',\n",
       " 'tipo_persona': 'Conductor',\n",
       " 'rango_edad': 'De 45 a 49 años',\n",
       " 'sexo': 'Hombre',\n",
       " 'cod_lesividad': 2.0,\n",
       " 'positiva_alcohol': 'N'}"
      ]
     },
     "execution_count": 19,
     "metadata": {},
     "output_type": "execute_result"
    }
   ],
   "source": [
    "#Devuelve algun documento\n",
    "bicismadridaccidents.find_one()"
   ]
  },
  {
   "cell_type": "code",
   "execution_count": 20,
   "id": "5763f3b9",
   "metadata": {},
   "outputs": [
    {
     "name": "stdout",
     "output_type": "stream",
     "text": [
      "Hubo 0 accidentes con alcohol implicado\n",
      "Bien hecho, ciudadanos. Si bebeis no conduzcais. Ni bicis siquiera!\n"
     ]
    }
   ],
   "source": [
    "# Consulta 1:Aquellos accidentes en los que el conductor estaba ebrio (no deberia haber ninguno)\n",
    "accidentes_con_alcohol = bicismadridaccidents.count_documents({\"positiva_alcohol\":'Y'})\n",
    "print(\"Hubo {} accidentes con alcohol implicado\".format(accidentes_con_alcohol))\n",
    "if accidentes_con_alcohol == 0:\n",
    "    print(\"Bien hecho, ciudadanos. Si bebeis no conduzcais. Ni bicis siquiera!\")\n",
    "else:\n",
    "    print(\"Hay que hacer algo con los que beben y conducen!\")"
   ]
  },
  {
   "cell_type": "code",
   "execution_count": 21,
   "id": "7691dec7",
   "metadata": {},
   "outputs": [
    {
     "name": "stdout",
     "output_type": "stream",
     "text": [
      "En Moratalaz hubo 19 accidentes\n"
     ]
    }
   ],
   "source": [
    "# Otra cosulta: cuántos accidentes hubo en Moratalaz\n",
    "accidentes_en_moratalaz = bicismadridaccidents.count_documents({'distrito':'MORATALAZ'})\n",
    "print(\"En Moratalaz hubo {} accidentes\".format(accidentes_en_moratalaz))"
   ]
  },
  {
   "cell_type": "code",
   "execution_count": 22,
   "id": "ec3574c6",
   "metadata": {},
   "outputs": [
    {
     "name": "stdout",
     "output_type": "stream",
     "text": [
      "Hay un 18.224852071005916 % de accidentes con bicicleta eléctrica\n"
     ]
    }
   ],
   "source": [
    "# Accidentes que se producen con bicicleta electrica\n",
    "accidentes_bici_normal = bicismadridaccidents.count_documents({'tipo_vehículo':\"Bicicleta\"})\n",
    "accidentes_bici_electrica = bicismadridaccidents.count_documents({'tipo_vehículo':{\"$ne\" :\"Bicicleta\"}})\n",
    "#Porcentaje de bicicletas electricas que tienen accidentes\n",
    "porcentaje_accidentes_electrica = 100*(accidentes_bici_electrica/bicismadridaccidents.count_documents({}))\n",
    "print(\"Hay un {} % de accidentes con bicicleta eléctrica\".format(porcentaje_accidentes_electrica))"
   ]
  },
  {
   "cell_type": "code",
   "execution_count": 23,
   "id": "5d542c35",
   "metadata": {},
   "outputs": [
    {
     "name": "stdout",
     "output_type": "stream",
     "text": [
      "Hay un 81.77514792899409 % de accidentes con bicicleta normal\n"
     ]
    }
   ],
   "source": [
    "#Porcentaje accidentes bicis normales\n",
    "porcentaje_accidentes_bici_normal = 100*(accidentes_bici_normal/bicismadridaccidents.count_documents({}))\n",
    "porcentaje_accidentes_bici_normal\n",
    "print(\"Hay un {} % de accidentes con bicicleta normal\".format(porcentaje_accidentes_bici_normal))"
   ]
  },
  {
   "cell_type": "code",
   "execution_count": 24,
   "id": "29a407fe",
   "metadata": {},
   "outputs": [
    {
     "name": "stdout",
     "output_type": "stream",
     "text": [
      "Los distritos con más accidentes fueron:\n",
      "\n",
      "{'_id': 'CENTRO', 'numero': 102}\n",
      "{'_id': 'MONCLOA-ARAVACA', 'numero': 77}\n",
      "{'_id': 'SALAMANCA', 'numero': 66}\n"
     ]
    }
   ],
   "source": [
    "#Consulta 2: Consultar los 3 distritos con mas accidentes\n",
    "distritos_por_accidentes = bicismadridaccidents.aggregate([{\n",
    "    \"$group\": {\n",
    "        \"_id\":\"$distrito\",\n",
    "        \"numero\": {\"$sum\" : 1}\n",
    "    }\n",
    "    },\n",
    "    {\"$sort\":\n",
    "     { \"numero\": -1 }\n",
    "    },\n",
    "    {\"$limit\":3}\n",
    "])\n",
    "print(\"Los distritos con más accidentes fueron:\\n\")\n",
    "for distrito in distritos_por_accidentes:\n",
    "    print(distrito)\n"
   ]
  },
  {
   "cell_type": "code",
   "execution_count": 25,
   "id": "cfeede64",
   "metadata": {},
   "outputs": [
    {
     "name": "stdout",
     "output_type": "stream",
     "text": [
      "La media de lesividad es 5.756164383561644\n"
     ]
    }
   ],
   "source": [
    "#Consulta 3 (parte 1): Encunetra la media de las lesividades\n",
    "media_de_lesividad = bicismadridaccidents.aggregate([\n",
    "      {\n",
    "        \"$match\":{\n",
    "            \"cod_lesividad\": {\n",
    "                \"$exists\": True, \n",
    "                \"$ne\": np.nan\n",
    "            }\n",
    "        }\n",
    "    },  \n",
    "    {\"$group\": {\n",
    "        \"_id\":\"_id\",\n",
    "        #\"Numero de accidentes\": {\"$sum\" : 1},\n",
    "        \"Media de lesividad\" :{\"$avg\": \"$cod_lesividad\"}\n",
    "    }\n",
    "    },\n",
    "    {\"$sort\":\n",
    "     { \"numero\": -1 }\n",
    "    },\n",
    "    {\"$limit\":1}\n",
    "])\n",
    "for media in media_de_lesividad:\n",
    "    media_final=media\n",
    "    \n",
    "media = media_final['Media de lesividad']\n",
    "print(\"La media de lesividad es {}\".format(media))"
   ]
  },
  {
   "cell_type": "code",
   "execution_count": 26,
   "id": "7765d6b8",
   "metadata": {},
   "outputs": [
    {
     "name": "stdout",
     "output_type": "stream",
     "text": [
      "Los distritos con una media de lesividades más graves fueron:\n",
      "\n",
      "{'_id': 'USERA', 'Numero de accidentes': 7, 'Media de lesividad': 1.5714285714285714}\n",
      "{'_id': 'VILLA DE VALLECAS', 'Numero de accidentes': 3, 'Media de lesividad': 1.6666666666666667}\n",
      "{'_id': 'PUENTE DE VALLECAS', 'Numero de accidentes': 13, 'Media de lesividad': 1.6923076923076923}\n",
      "{'_id': 'RETIRO', 'Numero de accidentes': 23, 'Media de lesividad': 1.7391304347826086}\n",
      "{'_id': 'ARGANZUELA', 'Numero de accidentes': 27, 'Media de lesividad': 1.7407407407407407}\n",
      "{'_id': 'CENTRO', 'Numero de accidentes': 35, 'Media de lesividad': 1.7428571428571429}\n",
      "{'_id': 'VILLAVERDE', 'Numero de accidentes': 6, 'Media de lesividad': 1.8333333333333333}\n",
      "{'_id': 'VICÁLVARO', 'Numero de accidentes': 8, 'Media de lesividad': 1.875}\n",
      "{'_id': 'BARAJAS', 'Numero de accidentes': 9, 'Media de lesividad': 1.8888888888888888}\n",
      "{'_id': 'CHAMBERÍ', 'Numero de accidentes': 17, 'Media de lesividad': 1.9411764705882353}\n",
      "{'_id': 'MONCLOA-ARAVACA', 'Numero de accidentes': 32, 'Media de lesividad': 2.0}\n",
      "{'_id': 'LATINA', 'Numero de accidentes': 11, 'Media de lesividad': 2.090909090909091}\n",
      "{'_id': 'HORTALEZA', 'Numero de accidentes': 10, 'Media de lesividad': 2.1}\n",
      "{'_id': 'CIUDAD LINEAL', 'Numero de accidentes': 13, 'Media de lesividad': 2.1538461538461537}\n",
      "{'_id': 'CHAMARTÍN', 'Numero de accidentes': 16, 'Media de lesividad': 2.1875}\n",
      "{'_id': 'SAN BLAS-CANILLEJAS', 'Numero de accidentes': 5, 'Media de lesividad': 2.2}\n",
      "{'_id': 'CARABANCHEL', 'Numero de accidentes': 9, 'Media de lesividad': 2.2222222222222223}\n",
      "{'_id': 'MORATALAZ', 'Numero de accidentes': 4, 'Media de lesividad': 2.25}\n",
      "{'_id': 'FUENCARRAL-EL PARDO', 'Numero de accidentes': 18, 'Media de lesividad': 2.3333333333333335}\n",
      "{'_id': 'SALAMANCA', 'Numero de accidentes': 22, 'Media de lesividad': 2.409090909090909}\n",
      "{'_id': 'TETUÁN', 'Numero de accidentes': 10, 'Media de lesividad': 2.8}\n",
      "\n",
      "\n",
      "NOTA: A menor código de lesividad, mayor gravedad en la heridas sufridas por el accidentado\n"
     ]
    }
   ],
   "source": [
    "#Consulta 3(parte 2): Encuentra aquellos distritos cuya lesvidad sea mayor (a menor grado de lesividad mas probabilidad de ingreso hospitalario)\n",
    "agregados_lesividad = bicismadridaccidents.aggregate([\n",
    "      {\n",
    "        \"$match\":{\n",
    "            \"cod_lesividad\": {\n",
    "                \"$exists\": True, \n",
    "                \"$ne\": np.nan,\n",
    "                \"$lt\": media\n",
    "            }\n",
    "        }\n",
    "    },  \n",
    "    {\"$group\": {\n",
    "        \"_id\":\"$distrito\",\n",
    "        \"Numero de accidentes\": {\"$sum\" : 1},\n",
    "        \"Media de lesividad\" :{\"$avg\": \"$cod_lesividad\"}\n",
    "    }\n",
    "    },\n",
    "    {\"$sort\":\n",
    "     { \"Media de lesividad\": 1 }\n",
    "    }\n",
    "])\n",
    "print(\"Los distritos con una media de lesividades más graves fueron:\\n\")\n",
    "for agregado in agregados_lesividad:\n",
    "    print(agregado)\n",
    "    \n",
    "print(\"\\n\\nNOTA: A menor código de lesividad, mayor gravedad en la heridas sufridas por el accidentado\")"
   ]
  }
 ],
 "metadata": {
  "kernelspec": {
   "display_name": "Python 3 (ipykernel)",
   "language": "python",
   "name": "python3"
  },
  "language_info": {
   "codemirror_mode": {
    "name": "ipython",
    "version": 3
   },
   "file_extension": ".py",
   "mimetype": "text/x-python",
   "name": "python",
   "nbconvert_exporter": "python",
   "pygments_lexer": "ipython3",
   "version": "3.10.2"
  }
 },
 "nbformat": 4,
 "nbformat_minor": 5
}
