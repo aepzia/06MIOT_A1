{
 "cells": [
  {
   "cell_type": "code",
   "execution_count": 12,
   "id": "578ffd64",
   "metadata": {},
   "outputs": [
    {
     "name": "stdout",
     "output_type": "stream",
     "text": [
      "Requirement already satisfied: seaborn in c:\\users\\aizpea.babaze\\anaconda3\\lib\\site-packages (0.11.2)\n",
      "Requirement already satisfied: numpy>=1.15 in c:\\users\\aizpea.babaze\\anaconda3\\lib\\site-packages (from seaborn) (1.20.3)\n",
      "Requirement already satisfied: matplotlib>=2.2 in c:\\users\\aizpea.babaze\\anaconda3\\lib\\site-packages (from seaborn) (3.4.3)\n",
      "Requirement already satisfied: scipy>=1.0 in c:\\users\\aizpea.babaze\\anaconda3\\lib\\site-packages (from seaborn) (1.7.1)\n",
      "Requirement already satisfied: pandas>=0.23 in c:\\users\\aizpea.babaze\\anaconda3\\lib\\site-packages (from seaborn) (1.3.4)\n",
      "Requirement already satisfied: cycler>=0.10 in c:\\users\\aizpea.babaze\\anaconda3\\lib\\site-packages (from matplotlib>=2.2->seaborn) (0.10.0)\n",
      "Requirement already satisfied: kiwisolver>=1.0.1 in c:\\users\\aizpea.babaze\\anaconda3\\lib\\site-packages (from matplotlib>=2.2->seaborn) (1.3.1)\n",
      "Requirement already satisfied: pillow>=6.2.0 in c:\\users\\aizpea.babaze\\anaconda3\\lib\\site-packages (from matplotlib>=2.2->seaborn) (8.4.0)\n",
      "Requirement already satisfied: python-dateutil>=2.7 in c:\\users\\aizpea.babaze\\anaconda3\\lib\\site-packages (from matplotlib>=2.2->seaborn) (2.8.2)\n",
      "Requirement already satisfied: pyparsing>=2.2.1 in c:\\users\\aizpea.babaze\\anaconda3\\lib\\site-packages (from matplotlib>=2.2->seaborn) (3.0.4)\n",
      "Requirement already satisfied: six in c:\\users\\aizpea.babaze\\anaconda3\\lib\\site-packages (from cycler>=0.10->matplotlib>=2.2->seaborn) (1.16.0)\n",
      "Requirement already satisfied: pytz>=2017.3 in c:\\users\\aizpea.babaze\\anaconda3\\lib\\site-packages (from pandas>=0.23->seaborn) (2021.3)\n",
      "Requirement already satisfied: bokeh in c:\\users\\aizpea.babaze\\anaconda3\\lib\\site-packages (2.4.1)\n",
      "Requirement already satisfied: typing-extensions>=3.10.0 in c:\\users\\aizpea.babaze\\anaconda3\\lib\\site-packages (from bokeh) (3.10.0.2)\n",
      "Requirement already satisfied: packaging>=16.8 in c:\\users\\aizpea.babaze\\anaconda3\\lib\\site-packages (from bokeh) (21.0)\n",
      "Requirement already satisfied: pillow>=7.1.0 in c:\\users\\aizpea.babaze\\anaconda3\\lib\\site-packages (from bokeh) (8.4.0)\n",
      "Requirement already satisfied: numpy>=1.11.3 in c:\\users\\aizpea.babaze\\anaconda3\\lib\\site-packages (from bokeh) (1.20.3)\n",
      "Requirement already satisfied: PyYAML>=3.10 in c:\\users\\aizpea.babaze\\anaconda3\\lib\\site-packages (from bokeh) (6.0)\n",
      "Requirement already satisfied: Jinja2>=2.9 in c:\\users\\aizpea.babaze\\anaconda3\\lib\\site-packages (from bokeh) (2.11.3)\n",
      "Requirement already satisfied: tornado>=5.1 in c:\\users\\aizpea.babaze\\anaconda3\\lib\\site-packages (from bokeh) (6.1)\n",
      "Requirement already satisfied: MarkupSafe>=0.23 in c:\\users\\aizpea.babaze\\anaconda3\\lib\\site-packages (from Jinja2>=2.9->bokeh) (1.1.1)\n",
      "Requirement already satisfied: pyparsing>=2.0.2 in c:\\users\\aizpea.babaze\\anaconda3\\lib\\site-packages (from packaging>=16.8->bokeh) (3.0.4)\n",
      "Requirement already satisfied: pandas in c:\\users\\aizpea.babaze\\anaconda3\\lib\\site-packages (1.3.4)\n",
      "Requirement already satisfied: numpy>=1.17.3 in c:\\users\\aizpea.babaze\\anaconda3\\lib\\site-packages (from pandas) (1.20.3)\n",
      "Requirement already satisfied: pytz>=2017.3 in c:\\users\\aizpea.babaze\\anaconda3\\lib\\site-packages (from pandas) (2021.3)\n",
      "Requirement already satisfied: python-dateutil>=2.7.3 in c:\\users\\aizpea.babaze\\anaconda3\\lib\\site-packages (from pandas) (2.8.2)\n",
      "Requirement already satisfied: six>=1.5 in c:\\users\\aizpea.babaze\\anaconda3\\lib\\site-packages (from python-dateutil>=2.7.3->pandas) (1.16.0)\n",
      "Requirement already satisfied: numpy in c:\\users\\aizpea.babaze\\anaconda3\\lib\\site-packages (1.20.3)\n"
     ]
    }
   ],
   "source": [
    "#Instala las librerias graficas que necesitamos\n",
    "!pip install seaborn\n",
    "!pip install bokeh\n",
    "!pip install pandas\n",
    "!pip install numpy"
   ]
  },
  {
   "cell_type": "code",
   "execution_count": 2,
   "id": "eb6c9448",
   "metadata": {},
   "outputs": [],
   "source": [
    "import numpy as np\n",
    "import pandas as pd\n",
    "import seaborn as sns\n",
    "import matplotlib.pyplot as plt\n",
    "from bokeh.plotting import figure, show"
   ]
  },
  {
   "cell_type": "code",
   "execution_count": 22,
   "id": "5250afba",
   "metadata": {},
   "outputs": [
    {
     "name": "stdout",
     "output_type": "stream",
     "text": [
      "distrito\n",
      "ARGANZUELA              59\n",
      "BARAJAS                 21\n",
      "CARABANCHEL             30\n",
      "CENTRO                 102\n",
      "CHAMARTÍN               35\n",
      "CHAMBERÍ                48\n",
      "CIUDAD LINEAL           24\n",
      "FUENCARRAL-EL PARDO     54\n",
      "HORTALEZA               29\n",
      "LATINA                  39\n",
      "MONCLOA-ARAVACA         77\n",
      "MORATALAZ               19\n",
      "PUENTE DE VALLECAS      41\n",
      "RETIRO                  59\n",
      "SALAMANCA               66\n",
      "SAN BLAS-CANILLEJAS     29\n",
      "TETUÁN                  39\n",
      "USERA                   26\n",
      "VICÁLVARO               18\n",
      "VILLA DE VALLECAS       14\n",
      "VILLAVERDE              16\n",
      "dtype: int64\n"
     ]
    }
   ],
   "source": [
    "# Número de accidentes por distrito\n",
    "accidentes_bicicletas=pd.read_csv(\"./AccidentesBicicletas_2021.csv\", sep=\";\")\n",
    "accidentes_por_distrito = accidentes_bicicletas.groupby(by=\"distrito\").size()\n",
    "accidentes_por_distrito\n",
    "print(accidentes_por_distrito)\n"
   ]
  },
  {
   "cell_type": "code",
   "execution_count": 4,
   "id": "ac26f9ad",
   "metadata": {},
   "outputs": [
    {
     "data": {
      "text/plain": [
       "[Text(0, 0, 'ARGANZUELA'),\n",
       " Text(1, 0, 'BARAJAS'),\n",
       " Text(2, 0, 'CARABANCHEL'),\n",
       " Text(3, 0, 'CENTRO'),\n",
       " Text(4, 0, 'CHAMARTÍN'),\n",
       " Text(5, 0, 'CHAMBERÍ'),\n",
       " Text(6, 0, 'CIUDAD LINEAL'),\n",
       " Text(7, 0, 'FUENCARRAL-EL PARDO'),\n",
       " Text(8, 0, 'HORTALEZA'),\n",
       " Text(9, 0, 'LATINA'),\n",
       " Text(10, 0, 'MONCLOA-ARAVACA'),\n",
       " Text(11, 0, 'MORATALAZ'),\n",
       " Text(12, 0, 'PUENTE DE VALLECAS'),\n",
       " Text(13, 0, 'RETIRO'),\n",
       " Text(14, 0, 'SALAMANCA'),\n",
       " Text(15, 0, 'SAN BLAS-CANILLEJAS'),\n",
       " Text(16, 0, 'TETUÁN'),\n",
       " Text(17, 0, 'USERA'),\n",
       " Text(18, 0, 'VICÁLVARO'),\n",
       " Text(19, 0, 'VILLA DE VALLECAS'),\n",
       " Text(20, 0, 'VILLAVERDE')]"
      ]
     },
     "execution_count": 4,
     "metadata": {},
     "output_type": "execute_result"
    },
    {
     "data": {
      "image/png": "[encoded data removed]",
      "text/plain": [
       "<Figure size 432x288 with 1 Axes>"
      ]
     },
     "metadata": {
      "needs_background": "light"
     },
     "output_type": "display_data"
    }
   ],
   "source": [
    "histograma = sns.barplot(x=accidentes_por_distrito.index, y=accidentes_por_distrito.values)\n",
    "histograma.set_xticklabels(histograma.get_xticklabels(),rotation = 90)\n"
   ]
  },
  {
   "cell_type": "code",
   "execution_count": 5,
   "id": "d7166d56",
   "metadata": {},
   "outputs": [
    {
     "data": {
      "text/html": [
       "<div>\n",
       "<style scoped>\n",
       "    .dataframe tbody tr th:only-of-type {\n",
       "        vertical-align: middle;\n",
       "    }\n",
       "\n",
       "    .dataframe tbody tr th {\n",
       "        vertical-align: top;\n",
       "    }\n",
       "\n",
       "    .dataframe thead th {\n",
       "        text-align: right;\n",
       "    }\n",
       "</style>\n",
       "<table border=\"1\" class=\"dataframe\">\n",
       "  <thead>\n",
       "    <tr style=\"text-align: right;\">\n",
       "      <th></th>\n",
       "      <th>num_expediente</th>\n",
       "      <th>fecha</th>\n",
       "      <th>hora</th>\n",
       "      <th>localizacion</th>\n",
       "      <th>numero</th>\n",
       "      <th>cod_distrito</th>\n",
       "      <th>distrito</th>\n",
       "      <th>tipo_accidente</th>\n",
       "      <th>estado_meteorológico</th>\n",
       "      <th>tipo_vehículo</th>\n",
       "      <th>tipo_persona</th>\n",
       "      <th>rango_edad</th>\n",
       "      <th>sexo</th>\n",
       "      <th>cod_lesividad</th>\n",
       "      <th>tipo_lesividad</th>\n",
       "      <th>coordenada_x_utm</th>\n",
       "      <th>coordenada_y_utm</th>\n",
       "      <th>positiva_alcohol</th>\n",
       "      <th>positiva_droga</th>\n",
       "    </tr>\n",
       "  </thead>\n",
       "  <tbody>\n",
       "    <tr>\n",
       "      <th>0</th>\n",
       "      <td>2021S000047</td>\n",
       "      <td>01/01/2021</td>\n",
       "      <td>11:38:00</td>\n",
       "      <td>CALL. JOSE BERGAMIN / CALL. FLORENCIO CANO CRI...</td>\n",
       "      <td>62</td>\n",
       "      <td>14</td>\n",
       "      <td>MORATALAZ</td>\n",
       "      <td>Caída</td>\n",
       "      <td>Despejado</td>\n",
       "      <td>Bicicleta</td>\n",
       "      <td>Conductor</td>\n",
       "      <td>De 45 a 49 años</td>\n",
       "      <td>Hombre</td>\n",
       "      <td>2.0</td>\n",
       "      <td>Ingreso inferior o igual a 24 horas</td>\n",
       "      <td>446.426.917</td>\n",
       "      <td>4.473.586.644</td>\n",
       "      <td>N</td>\n",
       "      <td>NaN</td>\n",
       "    </tr>\n",
       "    <tr>\n",
       "      <th>1</th>\n",
       "      <td>2021S000142</td>\n",
       "      <td>04/01/2021</td>\n",
       "      <td>11:30:00</td>\n",
       "      <td>PLAZA. GRECIA / AVDA. ARCENTALES wanda farola 20</td>\n",
       "      <td>1</td>\n",
       "      <td>20</td>\n",
       "      <td>SAN BLAS-CANILLEJAS</td>\n",
       "      <td>Caída</td>\n",
       "      <td>Despejado</td>\n",
       "      <td>Bicicleta</td>\n",
       "      <td>Conductor</td>\n",
       "      <td>De 15 a 17 años</td>\n",
       "      <td>Hombre</td>\n",
       "      <td>14.0</td>\n",
       "      <td>Sin asistencia sanitaria</td>\n",
       "      <td>448.606.811</td>\n",
       "      <td>4.476.216.426</td>\n",
       "      <td>N</td>\n",
       "      <td>NaN</td>\n",
       "    </tr>\n",
       "    <tr>\n",
       "      <th>2</th>\n",
       "      <td>2021S000142</td>\n",
       "      <td>04/01/2021</td>\n",
       "      <td>11:30:00</td>\n",
       "      <td>PLAZA. GRECIA / AVDA. ARCENTALES wanda farola 20</td>\n",
       "      <td>1</td>\n",
       "      <td>20</td>\n",
       "      <td>SAN BLAS-CANILLEJAS</td>\n",
       "      <td>Caída</td>\n",
       "      <td>Despejado</td>\n",
       "      <td>Bicicleta</td>\n",
       "      <td>Conductor</td>\n",
       "      <td>De 18 a 20 años</td>\n",
       "      <td>Hombre</td>\n",
       "      <td>14.0</td>\n",
       "      <td>Sin asistencia sanitaria</td>\n",
       "      <td>448.606.811</td>\n",
       "      <td>4.476.216.426</td>\n",
       "      <td>N</td>\n",
       "      <td>NaN</td>\n",
       "    </tr>\n",
       "    <tr>\n",
       "      <th>3</th>\n",
       "      <td>2021S000142</td>\n",
       "      <td>04/01/2021</td>\n",
       "      <td>11:30:00</td>\n",
       "      <td>PLAZA. GRECIA / AVDA. ARCENTALES wanda farola 20</td>\n",
       "      <td>1</td>\n",
       "      <td>20</td>\n",
       "      <td>SAN BLAS-CANILLEJAS</td>\n",
       "      <td>Caída</td>\n",
       "      <td>Despejado</td>\n",
       "      <td>Bicicleta</td>\n",
       "      <td>Conductor</td>\n",
       "      <td>De 21 a 24 años</td>\n",
       "      <td>Hombre</td>\n",
       "      <td>14.0</td>\n",
       "      <td>Sin asistencia sanitaria</td>\n",
       "      <td>448.606.811</td>\n",
       "      <td>4.476.216.426</td>\n",
       "      <td>N</td>\n",
       "      <td>NaN</td>\n",
       "    </tr>\n",
       "    <tr>\n",
       "      <th>4</th>\n",
       "      <td>2021S000142</td>\n",
       "      <td>04/01/2021</td>\n",
       "      <td>11:30:00</td>\n",
       "      <td>PLAZA. GRECIA / AVDA. ARCENTALES wanda farola 20</td>\n",
       "      <td>1</td>\n",
       "      <td>20</td>\n",
       "      <td>SAN BLAS-CANILLEJAS</td>\n",
       "      <td>Caída</td>\n",
       "      <td>Despejado</td>\n",
       "      <td>Bicicleta</td>\n",
       "      <td>Conductor</td>\n",
       "      <td>De 50 a 54 años</td>\n",
       "      <td>Hombre</td>\n",
       "      <td>6.0</td>\n",
       "      <td>Asistencia sanitaria inmediata en centro de sa...</td>\n",
       "      <td>448.606.811</td>\n",
       "      <td>4.476.216.426</td>\n",
       "      <td>N</td>\n",
       "      <td>NaN</td>\n",
       "    </tr>\n",
       "    <tr>\n",
       "      <th>...</th>\n",
       "      <td>...</td>\n",
       "      <td>...</td>\n",
       "      <td>...</td>\n",
       "      <td>...</td>\n",
       "      <td>...</td>\n",
       "      <td>...</td>\n",
       "      <td>...</td>\n",
       "      <td>...</td>\n",
       "      <td>...</td>\n",
       "      <td>...</td>\n",
       "      <td>...</td>\n",
       "      <td>...</td>\n",
       "      <td>...</td>\n",
       "      <td>...</td>\n",
       "      <td>...</td>\n",
       "      <td>...</td>\n",
       "      <td>...</td>\n",
       "      <td>...</td>\n",
       "      <td>...</td>\n",
       "    </tr>\n",
       "    <tr>\n",
       "      <th>840</th>\n",
       "      <td>2021S024926</td>\n",
       "      <td>29/12/2021</td>\n",
       "      <td>13:30:00</td>\n",
       "      <td>AVDA. RAMON Y CAJAL / PASEO. CEREZOS</td>\n",
       "      <td>81</td>\n",
       "      <td>5</td>\n",
       "      <td>CHAMARTÍN</td>\n",
       "      <td>Caída</td>\n",
       "      <td>Despejado</td>\n",
       "      <td>Bicicleta</td>\n",
       "      <td>Conductor</td>\n",
       "      <td>De 50 a 54 años</td>\n",
       "      <td>Hombre</td>\n",
       "      <td>2.0</td>\n",
       "      <td>Ingreso inferior o igual a 24 horas</td>\n",
       "      <td>443.594.681</td>\n",
       "      <td>4.478.221.621</td>\n",
       "      <td>N</td>\n",
       "      <td>NaN</td>\n",
       "    </tr>\n",
       "    <tr>\n",
       "      <th>841</th>\n",
       "      <td>2021S024995</td>\n",
       "      <td>30/12/2021</td>\n",
       "      <td>21:00:00</td>\n",
       "      <td>CALL. BERRUGUETE, 22</td>\n",
       "      <td>22</td>\n",
       "      <td>6</td>\n",
       "      <td>TETUÁN</td>\n",
       "      <td>Caída</td>\n",
       "      <td>Despejado</td>\n",
       "      <td>Bicicleta</td>\n",
       "      <td>Conductor</td>\n",
       "      <td>De 25 a 29 años</td>\n",
       "      <td>Mujer</td>\n",
       "      <td>NaN</td>\n",
       "      <td>NaN</td>\n",
       "      <td>440.291.735</td>\n",
       "      <td>4.478.733.191</td>\n",
       "      <td>N</td>\n",
       "      <td>NaN</td>\n",
       "    </tr>\n",
       "    <tr>\n",
       "      <th>842</th>\n",
       "      <td>2021S025055</td>\n",
       "      <td>30/12/2021</td>\n",
       "      <td>14:40:00</td>\n",
       "      <td>CALL. ENTRE ARROYOS, 11</td>\n",
       "      <td>11</td>\n",
       "      <td>14</td>\n",
       "      <td>MORATALAZ</td>\n",
       "      <td>Caída</td>\n",
       "      <td>Despejado</td>\n",
       "      <td>Bicicleta</td>\n",
       "      <td>Conductor</td>\n",
       "      <td>De 30 a 34 años</td>\n",
       "      <td>Mujer</td>\n",
       "      <td>14.0</td>\n",
       "      <td>Sin asistencia sanitaria</td>\n",
       "      <td>444.385.821</td>\n",
       "      <td>4.473.305.098</td>\n",
       "      <td>N</td>\n",
       "      <td>NaN</td>\n",
       "    </tr>\n",
       "    <tr>\n",
       "      <th>843</th>\n",
       "      <td>2021S025077</td>\n",
       "      <td>29/12/2021</td>\n",
       "      <td>23:10:00</td>\n",
       "      <td>CALL. TOMELLOSO / CALL. CRISTO DE LA VEGA</td>\n",
       "      <td>63</td>\n",
       "      <td>12</td>\n",
       "      <td>USERA</td>\n",
       "      <td>Colisión fronto-lateral</td>\n",
       "      <td>Despejado</td>\n",
       "      <td>Bicicleta</td>\n",
       "      <td>Conductor</td>\n",
       "      <td>De 21 a 24 años</td>\n",
       "      <td>Hombre</td>\n",
       "      <td>7.0</td>\n",
       "      <td>Asistencia sanitaria sólo en el lugar del acci...</td>\n",
       "      <td>440.557.175</td>\n",
       "      <td>4.470.111.030</td>\n",
       "      <td>N</td>\n",
       "      <td>NaN</td>\n",
       "    </tr>\n",
       "    <tr>\n",
       "      <th>844</th>\n",
       "      <td>2021S025094</td>\n",
       "      <td>29/12/2021</td>\n",
       "      <td>21:20:00</td>\n",
       "      <td>CALL. ALFREDO MARQUERIE / AVDA. CARDENAL HERRE...</td>\n",
       "      <td>1</td>\n",
       "      <td>8</td>\n",
       "      <td>FUENCARRAL-EL PARDO</td>\n",
       "      <td>Colisión lateral</td>\n",
       "      <td>NaN</td>\n",
       "      <td>Bicicleta</td>\n",
       "      <td>Conductor</td>\n",
       "      <td>De 50 a 54 años</td>\n",
       "      <td>Hombre</td>\n",
       "      <td>NaN</td>\n",
       "      <td>NaN</td>\n",
       "      <td>440.451.148</td>\n",
       "      <td>4.482.181.906</td>\n",
       "      <td>N</td>\n",
       "      <td>NaN</td>\n",
       "    </tr>\n",
       "  </tbody>\n",
       "</table>\n",
       "<p>845 rows × 19 columns</p>\n",
       "</div>"
      ],
      "text/plain": [
       "    num_expediente       fecha      hora  \\\n",
       "0      2021S000047  01/01/2021  11:38:00   \n",
       "1      2021S000142  04/01/2021  11:30:00   \n",
       "2      2021S000142  04/01/2021  11:30:00   \n",
       "3      2021S000142  04/01/2021  11:30:00   \n",
       "4      2021S000142  04/01/2021  11:30:00   \n",
       "..             ...         ...       ...   \n",
       "840    2021S024926  29/12/2021  13:30:00   \n",
       "841    2021S024995  30/12/2021  21:00:00   \n",
       "842    2021S025055  30/12/2021  14:40:00   \n",
       "843    2021S025077  29/12/2021  23:10:00   \n",
       "844    2021S025094  29/12/2021  21:20:00   \n",
       "\n",
       "                                          localizacion numero  cod_distrito  \\\n",
       "0    CALL. JOSE BERGAMIN / CALL. FLORENCIO CANO CRI...     62            14   \n",
       "1     PLAZA. GRECIA / AVDA. ARCENTALES wanda farola 20      1            20   \n",
       "2     PLAZA. GRECIA / AVDA. ARCENTALES wanda farola 20      1            20   \n",
       "3     PLAZA. GRECIA / AVDA. ARCENTALES wanda farola 20      1            20   \n",
       "4     PLAZA. GRECIA / AVDA. ARCENTALES wanda farola 20      1            20   \n",
       "..                                                 ...    ...           ...   \n",
       "840               AVDA. RAMON Y CAJAL / PASEO. CEREZOS     81             5   \n",
       "841                               CALL. BERRUGUETE, 22     22             6   \n",
       "842                            CALL. ENTRE ARROYOS, 11     11            14   \n",
       "843          CALL. TOMELLOSO / CALL. CRISTO DE LA VEGA     63            12   \n",
       "844  CALL. ALFREDO MARQUERIE / AVDA. CARDENAL HERRE...      1             8   \n",
       "\n",
       "                distrito           tipo_accidente estado_meteorológico  \\\n",
       "0              MORATALAZ                    Caída            Despejado   \n",
       "1    SAN BLAS-CANILLEJAS                    Caída            Despejado   \n",
       "2    SAN BLAS-CANILLEJAS                    Caída            Despejado   \n",
       "3    SAN BLAS-CANILLEJAS                    Caída            Despejado   \n",
       "4    SAN BLAS-CANILLEJAS                    Caída            Despejado   \n",
       "..                   ...                      ...                  ...   \n",
       "840            CHAMARTÍN                    Caída            Despejado   \n",
       "841               TETUÁN                    Caída            Despejado   \n",
       "842            MORATALAZ                    Caída            Despejado   \n",
       "843                USERA  Colisión fronto-lateral            Despejado   \n",
       "844  FUENCARRAL-EL PARDO         Colisión lateral                  NaN   \n",
       "\n",
       "    tipo_vehículo tipo_persona       rango_edad    sexo  cod_lesividad  \\\n",
       "0       Bicicleta    Conductor  De 45 a 49 años  Hombre            2.0   \n",
       "1       Bicicleta    Conductor  De 15 a 17 años  Hombre           14.0   \n",
       "2       Bicicleta    Conductor  De 18 a 20 años  Hombre           14.0   \n",
       "3       Bicicleta    Conductor  De 21 a 24 años  Hombre           14.0   \n",
       "4       Bicicleta    Conductor  De 50 a 54 años  Hombre            6.0   \n",
       "..            ...          ...              ...     ...            ...   \n",
       "840     Bicicleta    Conductor  De 50 a 54 años  Hombre            2.0   \n",
       "841     Bicicleta    Conductor  De 25 a 29 años   Mujer            NaN   \n",
       "842     Bicicleta    Conductor  De 30 a 34 años   Mujer           14.0   \n",
       "843     Bicicleta    Conductor  De 21 a 24 años  Hombre            7.0   \n",
       "844     Bicicleta    Conductor  De 50 a 54 años  Hombre            NaN   \n",
       "\n",
       "                                        tipo_lesividad coordenada_x_utm  \\\n",
       "0                  Ingreso inferior o igual a 24 horas      446.426.917   \n",
       "1                             Sin asistencia sanitaria      448.606.811   \n",
       "2                             Sin asistencia sanitaria      448.606.811   \n",
       "3                             Sin asistencia sanitaria      448.606.811   \n",
       "4    Asistencia sanitaria inmediata en centro de sa...      448.606.811   \n",
       "..                                                 ...              ...   \n",
       "840                Ingreso inferior o igual a 24 horas      443.594.681   \n",
       "841                                                NaN      440.291.735   \n",
       "842                           Sin asistencia sanitaria      444.385.821   \n",
       "843  Asistencia sanitaria sólo en el lugar del acci...      440.557.175   \n",
       "844                                                NaN      440.451.148   \n",
       "\n",
       "    coordenada_y_utm positiva_alcohol  positiva_droga  \n",
       "0      4.473.586.644                N             NaN  \n",
       "1      4.476.216.426                N             NaN  \n",
       "2      4.476.216.426                N             NaN  \n",
       "3      4.476.216.426                N             NaN  \n",
       "4      4.476.216.426                N             NaN  \n",
       "..               ...              ...             ...  \n",
       "840    4.478.221.621                N             NaN  \n",
       "841    4.478.733.191                N             NaN  \n",
       "842    4.473.305.098                N             NaN  \n",
       "843    4.470.111.030                N             NaN  \n",
       "844    4.482.181.906                N             NaN  \n",
       "\n",
       "[845 rows x 19 columns]"
      ]
     },
     "execution_count": 5,
     "metadata": {},
     "output_type": "execute_result"
    }
   ],
   "source": [
    "accidentes_bicicletas"
   ]
  },
  {
   "cell_type": "code",
   "execution_count": 6,
   "id": "ea89171c",
   "metadata": {},
   "outputs": [
    {
     "name": "stdout",
     "output_type": "stream",
     "text": [
      "rango_edad\n",
      "De 10 a 14 años     27\n",
      "De 15 a 17 años     25\n",
      "De 18 a 20 años     39\n",
      "De 21 a 24 años     67\n",
      "De 25 a 29 años    107\n",
      "De 30 a 34 años    101\n",
      "De 35 a 39 años     91\n",
      "De 40 a 44 años     86\n",
      "De 45 a 49 años     73\n",
      "De 50 a 54 años     72\n",
      "De 55 a 59 años     63\n",
      "De 6 a 9 años        9\n",
      "De 60 a 64 años     26\n",
      "De 65 a 69 años     16\n",
      "De 70 a 74 años     12\n",
      "Desconocido         21\n",
      "Menor de 5 años      3\n",
      "Más de 74 años       7\n",
      "dtype: int64\n"
     ]
    }
   ],
   "source": [
    "#Accidentes por edad\n",
    "accidentes_por_edad = accidentes_bicicletas.groupby(by=\"rango_edad\").size()\n",
    "accidentes_por_edad\n",
    "print(accidentes_por_edad)"
   ]
  },
  {
   "cell_type": "code",
   "execution_count": 7,
   "id": "d7963a36",
   "metadata": {},
   "outputs": [
    {
     "data": {
      "text/plain": [
       "[Text(0, 0, 'De 10 a 14 años'),\n",
       " Text(1, 0, 'De 15 a 17 años'),\n",
       " Text(2, 0, 'De 18 a 20 años'),\n",
       " Text(3, 0, 'De 21 a 24 años'),\n",
       " Text(4, 0, 'De 25 a 29 años'),\n",
       " Text(5, 0, 'De 30 a 34 años'),\n",
       " Text(6, 0, 'De 35 a 39 años'),\n",
       " Text(7, 0, 'De 40 a 44 años'),\n",
       " Text(8, 0, 'De 45 a 49 años'),\n",
       " Text(9, 0, 'De 50 a 54 años'),\n",
       " Text(10, 0, 'De 55 a 59 años'),\n",
       " Text(11, 0, 'De 6 a 9 años'),\n",
       " Text(12, 0, 'De 60 a 64 años'),\n",
       " Text(13, 0, 'De 65 a 69 años'),\n",
       " Text(14, 0, 'De 70 a 74 años'),\n",
       " Text(15, 0, 'Desconocido'),\n",
       " Text(16, 0, 'Menor de 5 años'),\n",
       " Text(17, 0, 'Más de 74 años')]"
      ]
     },
     "execution_count": 7,
     "metadata": {},
     "output_type": "execute_result"
    },
    {
     "data": {
      "image/png": "[encoded data removed]",
      "text/plain": [
       "<Figure size 432x288 with 1 Axes>"
      ]
     },
     "metadata": {
      "needs_background": "light"
     },
     "output_type": "display_data"
    }
   ],
   "source": [
    "histograma = sns.barplot(x=accidentes_por_edad.index, y=accidentes_por_edad.values)\n",
    "histograma.set_xticklabels(histograma.get_xticklabels(),rotation = 90)"
   ]
  },
  {
   "cell_type": "code",
   "execution_count": 8,
   "id": "e0707cdc",
   "metadata": {},
   "outputs": [
    {
     "name": "stdout",
     "output_type": "stream",
     "text": [
      "sexo\n",
      "Desconocido     18\n",
      "Hombre         617\n",
      "Mujer          210\n",
      "dtype: int64\n"
     ]
    }
   ],
   "source": [
    "#Accidentes por sexo\n",
    "accidentes_por_sexo = accidentes_bicicletas.groupby(by=\"sexo\").size()\n",
    "accidentes_por_sexo\n",
    "print(accidentes_por_sexo)"
   ]
  },
  {
   "cell_type": "code",
   "execution_count": 74,
   "id": "aa15f196",
   "metadata": {},
   "outputs": [
    {
     "name": "stdout",
     "output_type": "stream",
     "text": [
      "Index(['ARGANZUELA', 'BARAJAS', 'CARABANCHEL', 'CENTRO', 'CHAMARTÍN',\n",
      "       'CHAMBERÍ', 'CIUDAD LINEAL', 'FUENCARRAL-EL PARDO', 'HORTALEZA',\n",
      "       'LATINA', 'MONCLOA-ARAVACA', 'MORATALAZ', 'PUENTE DE VALLECAS',\n",
      "       'RETIRO', 'SALAMANCA', 'SAN BLAS-CANILLEJAS', 'TETUÁN', 'USERA',\n",
      "       'VICÁLVARO', 'VILLA DE VALLECAS', 'VILLAVERDE'],\n",
      "      dtype='object', name='distrito')\n",
      "[ 59  21  30 102  35  48  24  54  29  39  77  19  41  59  66  29  39  26\n",
      "  18  14  16]\n"
     ]
    }
   ],
   "source": [
    "# instantiating the figure object\n",
    "graph = figure(title=\"Accidentes por Distrito\", x_axis_label=\"Distrito\", y_axis_label=\"Número de accidentes\")\n",
    "  \n",
    "# x-coordinates to be plotted\n",
    "x = accidentes_por_distrito.index\n",
    "print(x)\n",
    "  \n",
    "# x-coordinates of the top edges\n",
    "top = accidentes_por_distrito.values\n",
    "print(top)\n",
    "  \n",
    "# width / thickness of the bars\n",
    "width = 0.5\n",
    "  \n",
    "# plotting the graph\n",
    "graph.vbar(x,\n",
    "           top = top,\n",
    "           width = width)\n",
    "  \n",
    "# displaying the model\n",
    "show(graph)"
   ]
  },
  {
   "cell_type": "code",
   "execution_count": 15,
   "id": "8ec16a2d",
   "metadata": {},
   "outputs": [
    {
     "data": {
      "text/plain": [
       "[Text(0, 0, 'Desconocido'), Text(1, 0, 'Hombre'), Text(2, 0, 'Mujer')]"
      ]
     },
     "execution_count": 15,
     "metadata": {},
     "output_type": "execute_result"
    },
    {
     "data": {
      "image/png": "[encoded data removed]",
      "text/plain": [
       "<Figure size 432x288 with 1 Axes>"
      ]
     },
     "metadata": {
      "needs_background": "light"
     },
     "output_type": "display_data"
    }
   ],
   "source": [
    "histograma = sns.barplot(x=accidentes_por_sexo.index, y=accidentes_por_sexo.values)\n",
    "histograma.set_xticklabels(histograma.get_xticklabels(),rotation = 90)"
   ]
  },
  {
   "cell_type": "code",
   "execution_count": 75,
   "id": "ce7a4acc",
   "metadata": {},
   "outputs": [],
   "source": [
    "from bokeh.layouts import gridplot\n",
    "from bokeh.plotting import figure, show"
   ]
  },
  {
   "cell_type": "code",
   "execution_count": 87,
   "id": "690b4a2e",
   "metadata": {},
   "outputs": [
    {
     "name": "stdout",
     "output_type": "stream",
     "text": [
      "Index(['Desconocido', 'Hombre', 'Mujer'], dtype='object', name='sexo')\n",
      "[ 18 617 210]\n"
     ]
    }
   ],
   "source": [
    "# instantiating the figure object\n",
    "x = accidentes_por_sexo.index\n",
    "\n",
    "graph = figure(title=\"Accidentes por sexo\", x_axis_label=\"Sexo\", y_axis_label=\"Número de accidentes\", x_range=['Desconocido', 'Hombre', 'Mujer'])\n",
    "  \n",
    "# x-coordinates to be plotted\n",
    "print(x)\n",
    "  \n",
    "# x-coordinates of the top edges\n",
    "top = accidentes_por_sexo.values\n",
    "print(top)\n",
    "  \n",
    "# width / thickness of the bars\n",
    "width = 0.5\n",
    "  \n",
    "# plotting the graph\n",
    "graph.vbar(x,\n",
    "           top = top,\n",
    "           width = width)\n",
    "  \n",
    "# displaying the model\n",
    "show(graph)"
   ]
  },
  {
   "cell_type": "code",
   "execution_count": 88,
   "id": "ce314add",
   "metadata": {},
   "outputs": [
    {
     "name": "stdout",
     "output_type": "stream",
     "text": [
      "Index(['ARGANZUELA', 'BARAJAS', 'CARABANCHEL', 'CENTRO', 'CHAMARTÍN',\n",
      "       'CHAMBERÍ', 'CIUDAD LINEAL', 'FUENCARRAL-EL PARDO', 'HORTALEZA',\n",
      "       'LATINA', 'MONCLOA-ARAVACA', 'MORATALAZ', 'PUENTE DE VALLECAS',\n",
      "       'RETIRO', 'SALAMANCA', 'SAN BLAS-CANILLEJAS', 'TETUÁN', 'USERA',\n",
      "       'VICÁLVARO', 'VILLA DE VALLECAS', 'VILLAVERDE'],\n",
      "      dtype='object', name='distrito')\n",
      "[ 59  21  30 102  35  48  24  54  29  39  77  19  41  59  66  29  39  26\n",
      "  18  14  16]\n"
     ]
    }
   ],
   "source": [
    "# instantiating the figure object\n",
    "x = accidentes_por_distrito.index\n",
    "\n",
    "graph = figure(title=\"Accidentes por distrito\", x_axis_label=\"Distrito\", y_axis_label=\"Número de accidentes\", x_range=['ARGANZUELA', 'BARAJAS', 'CARABANCHEL', 'CENTRO', 'CHAMARTÍN',\n",
    "       'CHAMBERÍ', 'CIUDAD LINEAL', 'FUENCARRAL-EL PARDO', 'HORTALEZA',\n",
    "       'LATINA', 'MONCLOA-ARAVACA', 'MORATALAZ', 'PUENTE DE VALLECAS',\n",
    "       'RETIRO', 'SALAMANCA', 'SAN BLAS-CANILLEJAS', 'TETUÁN', 'USERA',\n",
    "       'VICÁLVARO', 'VILLA DE VALLECAS', 'VILLAVERDE'])\n",
    "  \n",
    "# x-coordinates to be plotted\n",
    "print(x)\n",
    "  \n",
    "# x-coordinates of the top edges\n",
    "top = accidentes_por_distrito.values\n",
    "print(top)\n",
    "  \n",
    "# width / thickness of the bars\n",
    "width = 0.5\n",
    "  \n",
    "# plotting the graph\n",
    "graph.vbar(x,\n",
    "           top = top,\n",
    "           width = width)\n",
    "  \n",
    "# displaying the model\n",
    "show(graph)"
   ]
  },
  {
   "cell_type": "code",
   "execution_count": 92,
   "id": "f073f91f",
   "metadata": {},
   "outputs": [
    {
     "name": "stdout",
     "output_type": "stream",
     "text": [
      "Index(['De 10 a 14 años', 'De 15 a 17 años', 'De 18 a 20 años',\n",
      "       'De 21 a 24 años', 'De 25 a 29 años', 'De 30 a 34 años',\n",
      "       'De 35 a 39 años', 'De 40 a 44 años', 'De 45 a 49 años',\n",
      "       'De 50 a 54 años', 'De 55 a 59 años', 'De 6 a 9 años',\n",
      "       'De 60 a 64 años', 'De 65 a 69 años', 'De 70 a 74 años', 'Desconocido',\n",
      "       'Menor de 5 años', 'Más de 74 años'],\n",
      "      dtype='object', name='rango_edad')\n",
      "[ 27  25  39  67 107 101  91  86  73  72  63   9  26  16  12  21   3   7]\n"
     ]
    }
   ],
   "source": [
    "x = accidentes_por_edad.index\n",
    "\n",
    "graph = figure(title=\"Accidentes por edad\", x_axis_label=\"Distrito\", y_axis_label=\"Número de accidentes\", x_range=['De 10 a 14 años'\n",
    ", 'De 15 a 17 años',\n",
    " 'De 18 a 20 años',\n",
    "'De 21 a 24 años',\n",
    " 'De 25 a 29 años',\n",
    " 'De 30 a 34 años',\n",
    " 'De 35 a 39 años',\n",
    " 'De 40 a 44 años',\n",
    " 'De 45 a 49 años',\n",
    " 'De 50 a 54 años',\n",
    " 'De 55 a 59 años',\n",
    " 'De 6 a 9 años',\n",
    " 'De 60 a 64 años',\n",
    " 'De 65 a 69 años',\n",
    " 'De 70 a 74 años',\n",
    " 'Desconocido',\n",
    " 'Menor de 5 años',\n",
    " 'Más de 74 años'])\n",
    "  \n",
    "# x-coordinates to be plotted\n",
    "print(x)\n",
    "  \n",
    "# x-coordinates of the top edges\n",
    "top = accidentes_por_edad.values\n",
    "print(top)\n",
    "  \n",
    "# width / thickness of the bars\n",
    "width = 0.5\n",
    "  \n",
    "# plotting the graph\n",
    "graph.vbar(x,\n",
    "           top = top,\n",
    "           width = width)\n",
    "  \n",
    "# displaying the model\n",
    "show(graph)"
   ]
  },
  {
   "cell_type": "code",
   "execution_count": 93,
   "id": "652ffce7",
   "metadata": {
    "scrolled": true
   },
   "outputs": [],
   "source": [
    "import matplotlib.pyplot as plt"
   ]
  },
  {
   "cell_type": "code",
   "execution_count": 146,
   "id": "b0a1f94b",
   "metadata": {},
   "outputs": [
    {
     "data": {
      "image/png": "[encoded data removed]",
      "text/plain": [
       "<Figure size 432x288 with 1 Axes>"
      ]
     },
     "metadata": {
      "needs_background": "light"
     },
     "output_type": "display_data"
    }
   ],
   "source": [
    "fig = plt.figure()\n",
    "ax = fig.add_axes([0,0,1,1])\n",
    "edades = accidentes_por_edad.index\n",
    "accidentes = accidentes_por_edad.values\n",
    "ax.bar(edades,accidentes)\n",
    "plt.show()"
   ]
  },
  {
   "cell_type": "code",
   "execution_count": 145,
   "id": "e6ad4ff5",
   "metadata": {},
   "outputs": [
    {
     "data": {
      "image/png": "[encoded data removed]",
      "text/plain": [
       "<Figure size 432x288 with 1 Axes>"
      ]
     },
     "metadata": {
      "needs_background": "light"
     },
     "output_type": "display_data"
    }
   ],
   "source": [
    "fig = plt.figure()\n",
    "ax = fig.add_axes([0,0,1,1])\n",
    "sexo = accidentes_por_sexo.index\n",
    "accidentes = accidentes_por_sexo.values\n",
    "ax.bar(sexo,accidentes)\n",
    "plt.show()"
   ]
  },
  {
   "cell_type": "code",
   "execution_count": 147,
   "id": "e8bafa46",
   "metadata": {},
   "outputs": [
    {
     "data": {
      "image/png": "[encoded data removed]",
      "text/plain": [
       "<Figure size 432x288 with 1 Axes>"
      ]
     },
     "metadata": {
      "needs_background": "light"
     },
     "output_type": "display_data"
    }
   ],
   "source": [
    "fig = plt.figure()\n",
    "ax = fig.add_axes([0,0,1,1])\n",
    "distrito = accidentes_por_distrito.index\n",
    "accidentes = accidentes_por_distrito.values\n",
    "ax.bar(distrito,accidentes)\n",
    "plt.show()"
   ]
  },
  {
   "cell_type": "code",
   "execution_count": null,
   "id": "8f01022c",
   "metadata": {},
   "outputs": [],
   "source": []
  }
 ],
 "metadata": {
  "kernelspec": {
   "display_name": "Python 3 (ipykernel)",
   "language": "python",
   "name": "python3"
  },
  "language_info": {
   "codemirror_mode": {
    "name": "ipython",
    "version": 3
   },
   "file_extension": ".py",
   "mimetype": "text/x-python",
   "name": "python",
   "nbconvert_exporter": "python",
   "pygments_lexer": "ipython3",
   "version": "3.9.7"
  }
 },
 "nbformat": 4,
 "nbformat_minor": 5
}
